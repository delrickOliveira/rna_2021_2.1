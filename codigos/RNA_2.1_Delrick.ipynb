{
 "cells": [
  {
   "cell_type": "code",
   "execution_count": 193,
   "metadata": {
    "pycharm": {
     "name": "#%%\n"
    }
   },
   "outputs": [],
   "source": [
    "import random as rd\n",
    "import matplotlib.pyplot as plt\n",
    "import numpy as np\n",
    "from prettytable import PrettyTable\n"
   ]
  },
  {
   "cell_type": "code",
   "execution_count": 194,
   "metadata": {
    "pycharm": {
     "name": "#%%\n"
    }
   },
   "outputs": [],
   "source": [
    "# core logic\n",
    "class RosenblattPerceptron:\n",
    "\n",
    "    def __init__(self, theta, learning_rate, data, data_size, interval):\n",
    "        self.theta = theta\n",
    "        self.learning_rate = learning_rate\n",
    "        self.weights = []\n",
    "        self.adjustments_count = 0\n",
    "        self.data = data\n",
    "        self.data_size = data_size\n",
    "        self.interval = interval\n",
    "        self.adjusted_in_this_era = False\n",
    "        self.eras_adjusting = 0\n",
    "\n",
    "    def reset_counters(self):\n",
    "        self.adjustments_count = 0\n",
    "        self.eras_adjusting = 0\n",
    "\n",
    "\n",
    "    def activation_degree(self, u):\n",
    "        if self.theta == 1 and u >= self.theta:\n",
    "            return 1\n",
    "        elif self.theta == 0 and u <= self.theta:\n",
    "            return 1\n",
    "        else:\n",
    "            return 0\n",
    "\n",
    "    def generate_initial_weights(self):\n",
    "        #plus one for the bias\n",
    "        weights = []\n",
    "        for j in range(self.data_size):\n",
    "           weights.append(rd.uniform(self.interval[0], self.interval[1]))\n",
    "        self.weights = np.array(weights)\n",
    "        print(\"Generated initial weights! Values: {}\".format(self.weights))\n",
    "\n",
    "    def add_bias_to_data(self):\n",
    "        self.data = np.c_[np.ones(len(self.data)) * -1 ,self.data]\n",
    "\n",
    "    def start_training(self):\n",
    "        print(\"starting training...\")\n",
    "        self.add_bias_to_data()\n",
    "        self.generate_initial_weights()\n",
    "        self.run_one_era()\n",
    "        while self.adjusted_in_this_era:\n",
    "            self.run_one_era()\n",
    "        print(\"training ended! Convergence in {} era, {} adjustments made. \".format(self.eras_adjusting, self.adjustments_count))\n",
    "\n",
    "    def run_one_era(self):\n",
    "        self.adjusted_in_this_era = False\n",
    "        for sample in self.data:\n",
    "            #calc of summation\n",
    "            sample_data = sample[:self.data_size]\n",
    "            u = np.dot(self.weights, sample_data)\n",
    "            y = self.activation_degree(u)\n",
    "            y_ground_truth = sample[self.data_size]\n",
    "            learning_and_error = self.learning_rate * (y - y_ground_truth)\n",
    "\n",
    "            if learning_and_error > 0:\n",
    "                delta = np.multiply(sample_data, learning_and_error)\n",
    "                self.weights = np.add(self.weights, delta)\n",
    "                self.adjusted_in_this_era = True\n",
    "                self.adjustments_count += 1\n",
    "                print(\"weight changed ! {}\".format(self.weights))\n",
    "        self.eras_adjusting +=1\n",
    "        print(\"Era of count {}. Adjustments made so far {}\".format(self.eras_adjusting, self.adjustments_count))\n",
    "\n",
    "def import_numpy_data(path, size):\n",
    "    raw_data = np.fromfile(file=path, dtype=float)\n",
    "    formatted_data = np.array(np.split(raw_data, len(raw_data)/size))\n",
    "    return formatted_data\n",
    "\n",
    "def plot_scatter(title, xlabel, ylabel, plot_data, straight_line_p1 = 0, straight_line_p2 = 0, plot_line = False):\n",
    "    plt.title(title)\n",
    "    plt.xlabel(xlabel)\n",
    "    plt.ylabel(ylabel)\n",
    "    for k in plot_data:\n",
    "        if k[2] == 0:\n",
    "            plt.scatter(k[0], k[1], c='r')\n",
    "        else:\n",
    "            plt.scatter(k[0], k[1], c='b')\n",
    "    if plot_line:\n",
    "        x = plot_data[:,0]\n",
    "        y = straight_line_p1 - straight_line_p2 * x\n",
    "        plt.scatter(x, y, color=\"black\")\n",
    "    plt.show()\n",
    "\n",
    "def obtain_line_by_weight(weights):\n",
    "    factor1 = weights[0] / weights[2]\n",
    "    factor2 = weights[1] / weights[2]\n",
    "    return factor1, factor2\n",
    "\n",
    "def benchmark_parameters(learn_rate, initial_weight_interval, data_to_bench):\n",
    "    adj_qtd = []\n",
    "    eras_qtd =[]\n",
    "    for i in range(10):\n",
    "        percep = RosenblattPerceptron (theta=0, learning_rate=learn_rate, data=data_to_bench, data_size=3, interval=initial_weight_interval )\n",
    "        percep.learning_rate = learn_rate\n",
    "        percep.data = data_to_bench\n",
    "        percep.interval = initial_weight_interval\n",
    "        percep.start_training()\n",
    "        adj_qtd.append(percep.adjustments_count)\n",
    "        eras_qtd.append(percep.eras_adjusting)\n",
    "    return np.min(eras_qtd), np.mean(adj_qtd), np.std(adj_qtd)"
   ]
  },
  {
   "cell_type": "markdown",
   "metadata": {},
   "source": [
    "<h1>2.1 Parte I - Resolvendo um problema Linearmente Separável</h1>\n",
    "<h3>Lendo os dados do arquivo e plotando com as respectivas cores de classe<h3>"
   ]
  },
  {
   "cell_type": "code",
   "execution_count": null,
   "metadata": {
    "pycharm": {
     "name": "#%%\n",
     "is_executing": true
    }
   },
   "outputs": [],
   "source": [
    "filename = \"dataAll.txt\"\n",
    "init_data = import_numpy_data(filename, 3)\n",
    "plot_scatter(\"Data All\", \"x1\", \"x2\", plot_data = init_data)"
   ]
  },
  {
   "cell_type": "markdown",
   "metadata": {},
   "source": [
    "<h3>Efetuando o treinamento com theta 0, learning rate 0.1 e intervalo para os pesos de (-0.5, 0.5)</h3>"
   ]
  },
  {
   "cell_type": "code",
   "execution_count": null,
   "metadata": {
    "pycharm": {
     "name": "#%%\n",
     "is_executing": true
    }
   },
   "outputs": [],
   "source": [
    "perceptron = RosenblattPerceptron(theta=0, learning_rate=0.1, data=init_data, data_size=3, interval=[-0.5, 0.5])\n",
    "perceptron.start_training()"
   ]
  },
  {
   "cell_type": "markdown",
   "metadata": {},
   "source": [
    "<h3>Plotando o resultado, gerando a reta equação dos pesos obtidos</h3>"
   ]
  },
  {
   "cell_type": "code",
   "execution_count": null,
   "metadata": {
    "pycharm": {
     "name": "#%%\n",
     "is_executing": true
    }
   },
   "outputs": [],
   "source": [
    "p1, p2 = obtain_line_by_weight(perceptron.weights)\n",
    "print(\"Quantidade de épocas do treinamento: {}, Quantidade de ajustes feitos nos pesos: {}\".format(perceptron.eras_adjusting, perceptron.adjustments_count))\n",
    "plot_scatter(title=\"Data All\", xlabel=\"x1\", ylabel=\"x2\", plot_data=init_data, straight_line_p1 = p1, straight_line_p2 = p2, plot_line=True)"
   ]
  },
  {
   "cell_type": "markdown",
   "metadata": {},
   "source": [
    "<h1>2.2 - Experimentação </h1>\n",
    "\n",
    "<h3> Primeiro serão plotados os exemplos desta questão </h3>"
   ]
  },
  {
   "cell_type": "code",
   "execution_count": null,
   "metadata": {
    "pycharm": {
     "name": "#%%\n",
     "is_executing": true
    }
   },
   "outputs": [],
   "source": [
    "filename = \"data0.txt\"\n",
    "data22 = import_numpy_data(filename, 3)\n",
    "plot_scatter(\"Data 0\", \"x1\", \"x2\", plot_data = data22)\n"
   ]
  },
  {
   "cell_type": "code",
   "execution_count": null,
   "metadata": {
    "pycharm": {
     "name": "#%%\n",
     "is_executing": true
    }
   },
   "outputs": [],
   "source": [
    "learn_rates_to_try = [0.4, 0.1, 0.01]\n",
    "initial_weights_to_try = [[-100,100], [-0.5, 0.5]]\n",
    "lr = learn_rates_to_try[0]\n",
    "initial_weights_interval = initial_weights_to_try[0]\n",
    "era_min, mean, std =  benchmark_parameters(lr, initial_weights_interval, data22)"
   ]
  },
  {
   "cell_type": "code",
   "execution_count": null,
   "outputs": [],
   "source": [
    "point1, point2 = obtain_line_by_weight(perceptron.weights)\n",
    "print(\"Combination of learning rate {} with initial weight interval {}\".format(lr, initial_weights_interval))\n",
    "plot_scatter(title=\"Data 0\", xlabel=\"x1\", ylabel=\"x2\", straight_line_p1 = point1, straight_line_p2 = point2, plot_data=data22, plot_line=True)"
   ],
   "metadata": {
    "collapsed": false,
    "pycharm": {
     "name": "#%%\n",
     "is_executing": true
    }
   }
  },
  {
   "cell_type": "code",
   "execution_count": null,
   "metadata": {
    "pycharm": {
     "name": "#%%",
     "is_executing": true
    }
   },
   "outputs": [],
   "source": [
    "rna_table = PrettyTable()\n",
    "rna_table.title = \"Configurações\"\n",
    "rna_table.field_names = [\"Taxa de Aprendizado\", \"Intervalo de Pesos\", \"Quantidade de Ajustes\", \"Menor número de épocas para convergência\"]"
   ]
  },
  {
   "cell_type": "code",
   "execution_count": null,
   "metadata": {
    "pycharm": {
     "is_executing": true
    }
   },
   "outputs": [],
   "source": [
    "rna_table.add_row([\"n={}\".format(lr),\n",
    "                           \"({},+{})\".format(initial_weights_interval[0],initial_weights_interval[1]),\n",
    "                           \"{}+-{}\".format(mean, std),\n",
    "                           \"{}\".format(era_min)\n",
    "                           ])"
   ]
  },
  {
   "cell_type": "code",
   "execution_count": null,
   "metadata": {
    "pycharm": {
     "is_executing": true
    }
   },
   "outputs": [],
   "source": [
    "lr = learn_rates_to_try[0]\n",
    "initial_weights_interval = initial_weights_to_try[1]\n",
    "era_min, mean, std =  benchmark_parameters(lr, initial_weights_interval, data22)"
   ]
  },
  {
   "cell_type": "code",
   "execution_count": null,
   "outputs": [],
   "source": [
    "point1, point2 = obtain_line_by_weight(perceptron.weights)\n",
    "print(\"Combination of learning rate {} with initial weight interval {}\".format(lr, initial_weights_interval))\n",
    "plot_scatter(title=\"Data 0\", xlabel=\"x1\", ylabel=\"x2\", straight_line_p1 = point1, straight_line_p2 = point2, plot_data=data22, plot_line=True)"
   ],
   "metadata": {
    "collapsed": false,
    "pycharm": {
     "name": "#%%\n",
     "is_executing": true
    }
   }
  },
  {
   "cell_type": "code",
   "execution_count": null,
   "metadata": {
    "pycharm": {
     "is_executing": true
    }
   },
   "outputs": [],
   "source": [
    "rna_table.add_row([\"n={}\".format(lr),\n",
    "                           \"({},+{})\".format(initial_weights_interval[0],initial_weights_interval[1]),\n",
    "                           \"{}+-{}\".format(mean, std),\n",
    "                           \"{}\".format(era_min)\n",
    "                           ])\n"
   ]
  },
  {
   "cell_type": "code",
   "execution_count": null,
   "metadata": {
    "pycharm": {
     "is_executing": true
    }
   },
   "outputs": [],
   "source": [
    "lr = learn_rates_to_try[1]\n",
    "initial_weights_interval = initial_weights_to_try[0]\n",
    "era_min, mean, std =  benchmark_parameters(lr, initial_weights_interval, data22)"
   ]
  },
  {
   "cell_type": "code",
   "execution_count": null,
   "outputs": [],
   "source": [
    "point1, point2 = obtain_line_by_weight(perceptron.weights)\n",
    "print(\"Combination of learning rate {} with initial weight interval {}\".format(lr, initial_weights_interval))\n",
    "plot_scatter(title=\"Data 0\", xlabel=\"x1\", ylabel=\"x2\", straight_line_p1 = point1, straight_line_p2 = point2, plot_data=data22, plot_line=True)"
   ],
   "metadata": {
    "collapsed": false,
    "pycharm": {
     "name": "#%%\n",
     "is_executing": true
    }
   }
  },
  {
   "cell_type": "code",
   "execution_count": null,
   "outputs": [],
   "source": [
    "rna_table.add_row([\"n={}\".format(lr),\n",
    "                           \"({},+{})\".format(initial_weights_interval[0],initial_weights_interval[1]),\n",
    "                           \"{}+-{}\".format(mean, std),\n",
    "                           \"{}\".format(era_min)\n",
    "                           ])\n"
   ],
   "metadata": {
    "collapsed": false,
    "pycharm": {
     "name": "#%%\n",
     "is_executing": true
    }
   }
  },
  {
   "cell_type": "code",
   "execution_count": null,
   "metadata": {
    "pycharm": {
     "is_executing": true
    }
   },
   "outputs": [],
   "source": [
    "lr = learn_rates_to_try[1]\n",
    "initial_weights_interval = initial_weights_to_try[1]\n",
    "era_min, mean, std =  benchmark_parameters(lr, initial_weights_interval, data22)"
   ]
  },
  {
   "cell_type": "code",
   "execution_count": null,
   "outputs": [],
   "source": [
    "point1, point2 = obtain_line_by_weight(perceptron.weights)\n",
    "print(\"Combination of learning rate {} with initial weight interval {}\".format(lr, initial_weights_interval))\n",
    "plot_scatter(title=\"Data 0\", xlabel=\"x1\", ylabel=\"x2\", straight_line_p1 = point1, straight_line_p2 = point2, plot_data=data22, plot_line=True)"
   ],
   "metadata": {
    "collapsed": false,
    "pycharm": {
     "name": "#%%\n",
     "is_executing": true
    }
   }
  },
  {
   "cell_type": "code",
   "execution_count": null,
   "outputs": [],
   "source": [
    "rna_table.add_row([\"n={}\".format(lr),\n",
    "                           \"({},+{})\".format(initial_weights_interval[0],initial_weights_interval[1]),\n",
    "                           \"{}+-{}\".format(mean, std),\n",
    "                           \"{}\".format(era_min)\n",
    "                           ])"
   ],
   "metadata": {
    "collapsed": false,
    "pycharm": {
     "name": "#%%\n",
     "is_executing": true
    }
   }
  },
  {
   "cell_type": "code",
   "execution_count": null,
   "outputs": [],
   "source": [
    "lr = learn_rates_to_try[2]\n",
    "initial_weights_interval = initial_weights_to_try[0]\n",
    "era_min, mean, std =  benchmark_parameters(lr, initial_weights_interval, data22)"
   ],
   "metadata": {
    "collapsed": false,
    "pycharm": {
     "name": "#%%\n",
     "is_executing": true
    }
   }
  },
  {
   "cell_type": "code",
   "execution_count": null,
   "outputs": [],
   "source": [
    "point1, point2 = obtain_line_by_weight(perceptron.weights)\n",
    "print(\"Combination of learning rate {} with initial weight interval {}\".format(lr, initial_weights_interval))\n",
    "plot_scatter(title=\"Data 0\", xlabel=\"x1\", ylabel=\"x2\", straight_line_p1 = point1, straight_line_p2 = point2, plot_data=data22, plot_line=True)"
   ],
   "metadata": {
    "collapsed": false,
    "pycharm": {
     "name": "#%%\n",
     "is_executing": true
    }
   }
  },
  {
   "cell_type": "code",
   "execution_count": null,
   "outputs": [],
   "source": [
    "rna_table.add_row([\"n={}\".format(lr),\n",
    "                           \"({},+{})\".format(initial_weights_interval[0],initial_weights_interval[1]),\n",
    "                           \"{}+-{}\".format(mean, std),\n",
    "                           \"{}\".format(era_min)\n",
    "                           ])"
   ],
   "metadata": {
    "collapsed": false,
    "pycharm": {
     "name": "#%%\n",
     "is_executing": true
    }
   }
  },
  {
   "cell_type": "code",
   "execution_count": null,
   "outputs": [],
   "source": [
    "lr = learn_rates_to_try[2]\n",
    "initial_weights_interval = initial_weights_to_try[1]\n",
    "era_min, mean, std =  benchmark_parameters(lr, initial_weights_interval, data22)"
   ],
   "metadata": {
    "collapsed": false,
    "pycharm": {
     "name": "#%%\n",
     "is_executing": true
    }
   }
  },
  {
   "cell_type": "code",
   "execution_count": null,
   "outputs": [],
   "source": [
    "point1, point2 = obtain_line_by_weight(perceptron.weights)\n",
    "print(\"Combination of learning rate {} with initial weight interval {}\".format(lr, initial_weights_interval))\n",
    "plot_scatter(title=\"Data 0\", xlabel=\"x1\", ylabel=\"x2\", straight_line_p1 = point1, straight_line_p2 = point2, plot_data=data22, plot_line=True)"
   ],
   "metadata": {
    "collapsed": false,
    "pycharm": {
     "name": "#%%\n",
     "is_executing": true
    }
   }
  },
  {
   "cell_type": "code",
   "execution_count": null,
   "outputs": [],
   "source": [
    "rna_table.add_row([\"n={}\".format(lr),\n",
    "                           \"({},+{})\".format(initial_weights_interval[0],initial_weights_interval[1]),\n",
    "                           \"{}+-{}\".format(mean, std),\n",
    "                           \"{}\".format(era_min)\n",
    "                           ])\n"
   ],
   "metadata": {
    "collapsed": false,
    "pycharm": {
     "name": "#%%\n",
     "is_executing": true
    }
   }
  },
  {
   "cell_type": "code",
   "execution_count": null,
   "outputs": [],
   "source": [
    "print(rna_table)"
   ],
   "metadata": {
    "collapsed": false,
    "pycharm": {
     "name": "#%%\n",
     "is_executing": true
    }
   }
  },
  {
   "cell_type": "code",
   "execution_count": null,
   "outputs": [],
   "source": [],
   "metadata": {
    "collapsed": false,
    "pycharm": {
     "name": "#%%\n",
     "is_executing": true
    }
   }
  },
  {
   "cell_type": "code",
   "execution_count": null,
   "outputs": [],
   "source": [],
   "metadata": {
    "collapsed": false,
    "pycharm": {
     "name": "#%%\n",
     "is_executing": true
    }
   }
  }
 ],
 "metadata": {
  "kernelspec": {
   "display_name": "Python 3",
   "language": "python",
   "name": "python3"
  },
  "language_info": {
   "codemirror_mode": {
    "name": "ipython",
    "version": 3
   },
   "file_extension": ".py",
   "mimetype": "text/x-python",
   "name": "python",
   "nbconvert_exporter": "python",
   "pygments_lexer": "ipython3",
   "version": "3.8.8"
  }
 },
 "nbformat": 4,
 "nbformat_minor": 2
}