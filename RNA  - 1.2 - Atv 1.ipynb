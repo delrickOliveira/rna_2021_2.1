{
 "cells": [
  {
   "cell_type": "code",
   "execution_count": 1,
   "id": "0ae8aaaa",
   "metadata": {},
   "outputs": [],
   "source": [
    "import numpy as np\n",
    "import random\n",
    "import matplotlib.pyplot as plt"
   ]
  },
  {
   "cell_type": "markdown",
   "id": "caff0608",
   "metadata": {},
   "source": [
    "## Parte I - Resolvendo um Problema Linearmente Separável"
   ]
  },
  {
   "cell_type": "code",
   "execution_count": 2,
   "id": "d872f0c1",
   "metadata": {},
   "outputs": [
    {
     "name": "stdout",
     "output_type": "stream",
     "text": [
      "Vetor de pesos Iniciais: [-0.3959063027778794, -0.01926658279875082, -0.42921527169850326]\n"
     ]
    }
   ],
   "source": [
    "data = np.fromfile('data/data/dataAll.txt')\n",
    "N = 3\n",
    "saidas_a=[]\n",
    "d_data = [data[n:n+N].tolist() for n in range(0, len(data), N)]\n",
    "for i in d_data:\n",
    "    saidas_a.append(i[-1])\n",
    "    i.pop()\n",
    "entradas_a = d_data\n",
    "graf_x = entradas_a\n",
    "graf_y = saidas_a\n",
    "\n",
    "\n",
    "\n",
    "entradas = entradas_a\n",
    "total_entradas = len(entradas)\n",
    "saidas = saidas_a\n",
    "f = 0\n",
    "w0 = -1\n",
    "apz = 0.1\n",
    "pesos = []\n",
    "p0 = []\n",
    "for i in range(3):\n",
    "            p0.append(random.uniform(-0.5,0.5))\n",
    "w0  = np.array(w0)\n",
    "\n",
    "\n",
    "print('Vetor de pesos Iniciais:',p0)\n",
    "\n",
    "for entrada in entradas:\n",
    "    entrada.insert(0, -1)\n",
    "entradas = np.array(entradas)"
   ]
  },
  {
   "cell_type": "code",
   "execution_count": 3,
   "id": "d971d0ce",
   "metadata": {},
   "outputs": [],
   "source": [
    "def activate(x):\n",
    "    if x>0:\n",
    "        return 1.0\n",
    "    else:\n",
    "        return 0.0"
   ]
  },
  {
   "cell_type": "code",
   "execution_count": 4,
   "id": "b49439ea",
   "metadata": {},
   "outputs": [
    {
     "name": "stdout",
     "output_type": "stream",
     "text": [
      "a) Alterações no vetor de Pesos: 184\n",
      "Ultimo Vetor de Pesos:  [  -3.1959063   595.60376342 -593.35142527]\n",
      "------------------------------------------\n",
      "b) Números de épocas até a convergência: 16\n",
      "------------------------------------------\n"
     ]
    }
   ],
   "source": [
    "epcs = 0\n",
    "ajustes = 0\n",
    "while True:\n",
    "    erro = False\n",
    "    \n",
    "    for i in range(total_entradas): \n",
    "        \n",
    "        u = 0\n",
    "        u = u + (np.vdot(entradas[i],p0))\n",
    "        y = activate(u)\n",
    "        \n",
    "        if saidas[i]-y!=0.0:\n",
    "            erro_aux = saidas[i]-y\n",
    "            p0 = p0+(0.1*erro_aux*(entradas[i]))\n",
    "            ajustes += 1\n",
    "            #print(p0)\n",
    "            pesos.append(p0)\n",
    "            erro = True\n",
    "    epcs+=1\n",
    "    if not erro:\n",
    "        break\n",
    "\n",
    "print('a) Alterações no vetor de Pesos:',ajustes)\n",
    "print('Ultimo Vetor de Pesos: ',p0)\n",
    "print('------------------------------------------')\n",
    "print(\"b) Números de épocas até a convergência:\",epcs)\n",
    "print('------------------------------------------')"
   ]
  },
  {
   "cell_type": "code",
   "execution_count": 5,
   "id": "dae908a3",
   "metadata": {},
   "outputs": [
    {
     "name": "stdout",
     "output_type": "stream",
     "text": [
      "c) Gráfico gerado\n"
     ]
    },
    {
     "data": {
      "image/png": "[encoded data removed]",
      "text/plain": [
       "<Figure size 576x360 with 1 Axes>"
      ]
     },
     "metadata": {
      "needs_background": "light"
     },
     "output_type": "display_data"
    }
   ],
   "source": [
    "plot_x_1 = []\n",
    "plot_y_1 = []\n",
    "plot_x_0 = []\n",
    "plot_y_0 = []\n",
    "\n",
    "plt.figure(figsize=(8,5))\n",
    "\n",
    "for i in range (0,1000):\n",
    "    if saidas_a[i]==1.0:\n",
    "        plot_x_1.append(entradas_a[i][1])\n",
    "        plot_y_1.append(entradas_a[i][2])\n",
    "    else:\n",
    "        plot_x_0.append(entradas_a[i][1])\n",
    "        plot_y_0.append(entradas_a[i][2])\n",
    "        \n",
    "x = plot_x_1\n",
    "y = plot_y_1\n",
    "a = plot_x_0\n",
    "b = plot_y_0\n",
    "\n",
    "plt.scatter(x,y,s=3,alpha=1)\n",
    "plt.scatter(a,b,s=3,alpha=1, c='red')\n",
    "#plt.plot(x, y, 'bo')\n",
    "#plt.plot(a, b, 'ro')\n",
    "\n",
    "\n",
    "aaaa=[]\n",
    "bbbb = []\n",
    "for i in range(-(total_entradas),total_entradas):\n",
    "    aaaa.append(i)\n",
    "    bbbb.append((p0[0]/p0[2])-(p0[1]/p0[2])*i)\n",
    "    \n",
    "#plt.plot(aaaa, bbbb,'black')\n",
    "plt.scatter(aaaa,bbbb,s=0.1,alpha=0.5, c='black')\n",
    "\n",
    "print('c) Gráfico gerado')\n",
    "\n",
    "plt.show()  "
   ]
  },
  {
   "cell_type": "code",
   "execution_count": null,
   "id": "df3e5b25",
   "metadata": {},
   "outputs": [],
   "source": []
  },
  {
   "cell_type": "code",
   "execution_count": null,
   "id": "e7f91e42",
   "metadata": {},
   "outputs": [],
   "source": []
  }
 ],
 "metadata": {
  "kernelspec": {
   "display_name": "Python 3 (ipykernel)",
   "language": "python",
   "name": "python3"
  },
  "language_info": {
   "codemirror_mode": {
    "name": "ipython",
    "version": 3
   },
   "file_extension": ".py",
   "mimetype": "text/x-python",
   "name": "python",
   "nbconvert_exporter": "python",
   "pygments_lexer": "ipython3",
   "version": "3.8.5"
  }
 },
 "nbformat": 4,
 "nbformat_minor": 5
}
