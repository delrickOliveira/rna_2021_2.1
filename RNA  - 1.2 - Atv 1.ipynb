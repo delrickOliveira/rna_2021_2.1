{
 "cells": [
  {
   "cell_type": "code",
   "execution_count": 1,
   "id": "0ae8aaaa",
   "metadata": {},
   "outputs": [],
   "source": [
    "import numpy as np\n",
    "import random as rd\n",
    "import matplotlib.pyplot as plt\n",
    "from prettytable import PrettyTable"
   ]
  },
  {
   "cell_type": "code",
   "execution_count": 2,
   "id": "e7f91e42",
   "metadata": {},
   "outputs": [],
   "source": [
    "class Perc ():\n",
    "    def __init__(self,entrada,f=0,w0=-1,apz=0.1,vetori=[-0.5,0.5]):\n",
    "        self.entrada = entrada\n",
    "        self.entradas,self.saidas = self.conv_inp_out(entrada)\n",
    "        self.total_entradas = len(self.entradas)\n",
    "        self.x = f\n",
    "        self.w0 = w0\n",
    "        self.apz = apz\n",
    "        self.pesos = []\n",
    "        self.p0 = []\n",
    "        self.vetori = vetori\n",
    "        self.n_epc = 0\n",
    "        self.n_ajust = 0\n",
    "    \n",
    "    def conv_inp_out (self,entrada):\n",
    "        dado = 'data/data/'+str(entrada)\n",
    "        data = np.fromfile(str(dado))\n",
    "        N = 3\n",
    "        saidas_a=[]\n",
    "        d_data = [data[n:n+N].tolist() for n in range(0, len(data), N)]\n",
    "        for i in d_data:\n",
    "            saidas_a.append(i[-1])\n",
    "            i.pop()\n",
    "        entradas_a = d_data\n",
    "        return (entradas_a,saidas_a)\n",
    "    \n",
    "    def treino(self):\n",
    "        \n",
    "        p1 = self.vetori[0]\n",
    "        p2 = self.vetori[1]\n",
    "        for i in range(3):\n",
    "            r = rd.uniform(p1,p2)\n",
    "            self.p0.append(r)\n",
    "        w0  = np.array(self.w0)\n",
    "\n",
    "\n",
    "        #print('Vetor de pesos Iniciais:',self.p0)\n",
    "\n",
    "        for entrada in self.entradas:\n",
    "            entrada.insert(0, -1)\n",
    "        self.entradas = np.array(self.entradas)\n",
    "        \n",
    "        \n",
    "        epcs = 0\n",
    "        ajustes = 0\n",
    "        while True:\n",
    "            ajus_epc=0\n",
    "            erro = False\n",
    "\n",
    "            for i in range(self.total_entradas): \n",
    "\n",
    "                u = 0\n",
    "                u = u + (np.vdot(self.entradas[i],self.p0))\n",
    "                y = self.activate(u)\n",
    "\n",
    "                if self.saidas[i]-y!=0.0:\n",
    "                    erro_aux = self.saidas[i]-y\n",
    "                    self.p0 = self.p0+(self.apz*erro_aux*(self.entradas[i]))\n",
    "                    ajustes += 1\n",
    "                    ajus_epc+=1\n",
    "                    #print(p0)\n",
    "                    self.pesos.append(self.p0)\n",
    "                    erro = True\n",
    "                    #print('Época ',epcs,': ',ajus_epc,' ajustes.')\n",
    "            epcs+=1\n",
    "            if not erro:\n",
    "                break\n",
    "\n",
    "        #print('a) Alterações no vetor de Pesos:',ajustes)\n",
    "        self.n_ajust = ajustes\n",
    "        #print('Ultimo Vetor de Pesos: ',self.p0)\n",
    "        #print('-----------------------------------------------------------\\n')\n",
    "        #print(\"b) Números de épocas até a convergência:\",epcs)\n",
    "        self.n_epc+=epcs\n",
    "        #print('-----------------------------------------------------------\\n')\n",
    "        \n",
    "        \n",
    "    def activate(self,u):\n",
    "        if u>0:\n",
    "            return 1.0\n",
    "        else:\n",
    "            return 0.0\n",
    "        \n",
    "    def n_conv(self,):\n",
    "        #num_epc = int(self.n_epc)\n",
    "        return n_epc\n",
    "    \n",
    "    def n_ajus(self):\n",
    "        num_ajust = self.n_ajust\n",
    "        return num_ajust\n",
    "        \n",
    "    def plots(self):\n",
    "        plot_x_1 = []\n",
    "        plot_y_1 = []\n",
    "        plot_x_0 = []\n",
    "        plot_y_0 = []\n",
    "\n",
    "        plt.figure(figsize=(8,5))\n",
    "\n",
    "        for i in range (0,self.total_entradas):\n",
    "            if self.saidas[i]==1.0:\n",
    "                plot_x_1.append(self.entradas[i][1])\n",
    "                plot_y_1.append(self.entradas[i][2])\n",
    "            else:\n",
    "                plot_x_0.append(self.entradas[i][1])\n",
    "                plot_y_0.append(self.entradas[i][2])\n",
    "\n",
    "        x = plot_x_1\n",
    "        y = plot_y_1\n",
    "        a = plot_x_0\n",
    "        b = plot_y_0\n",
    "\n",
    "        plt.scatter(x,y,s=3,alpha=1)\n",
    "        plt.scatter(a,b,s=3,alpha=1, c='red')\n",
    "\n",
    "\n",
    "        aaaa=[]\n",
    "        bbbb = []\n",
    "        for i in range(-(self.total_entradas),self.total_entradas):\n",
    "            aaaa.append(i)\n",
    "            bbbb.append((self.p0[0]/self.p0[2])-(self.p0[1]/self.p0[2])*i)\n",
    "\n",
    "        plt.scatter(aaaa,bbbb,s=0.1,alpha=0.5, c='black')\n",
    "\n",
    "        print('Gráfico gerado')\n",
    "\n",
    "        plt.show() \n",
    "    "
   ]
  },
  {
   "cell_type": "markdown",
   "id": "2a47c3f8",
   "metadata": {},
   "source": [
    "## Parte I - Resolvendo um Problema Linearmente Separável"
   ]
  },
  {
   "cell_type": "code",
   "execution_count": 3,
   "id": "c9f7e00e",
   "metadata": {},
   "outputs": [],
   "source": [
    "rede = Perc(entrada='dataAll.txt',f=0,w0=-1,apz=0.1,vetori=[-0.5,0.5])"
   ]
  },
  {
   "cell_type": "code",
   "execution_count": 4,
   "id": "d584db0d",
   "metadata": {},
   "outputs": [
    {
     "name": "stdout",
     "output_type": "stream",
     "text": [
      "a) Número Total de Ajustes no Vetor de Pesos:  24\n",
      "b) Número de Épocas:  2\n"
     ]
    }
   ],
   "source": [
    "rede.treino()\n",
    "print('a) Número Total de Ajustes no Vetor de Pesos: ', rede.n_ajust)\n",
    "print('b) Número de Épocas: ',rede.n_epc)"
   ]
  },
  {
   "cell_type": "code",
   "execution_count": 5,
   "id": "0868de44",
   "metadata": {},
   "outputs": [
    {
     "name": "stdout",
     "output_type": "stream",
     "text": [
      "Gráfico gerado\n"
     ]
    },
    {
     "data": {
      "image/png": "[encoded data removed]",
      "text/plain": [
       "<Figure size 576x360 with 1 Axes>"
      ]
     },
     "metadata": {
      "needs_background": "light"
     },
     "output_type": "display_data"
    }
   ],
   "source": [
    "rede.plots()"
   ]
  },
  {
   "cell_type": "code",
   "execution_count": null,
   "id": "5cc9968a",
   "metadata": {},
   "outputs": [],
   "source": []
  },
  {
   "cell_type": "code",
   "execution_count": 7,
   "id": "2706d40e",
   "metadata": {},
   "outputs": [
    {
     "name": "stdout",
     "output_type": "stream",
     "text": [
      "+---------------------+--------------------+-------------------+---------------------------+------------------------+\n",
      "| Taxa de Aprendizado | Intervalo de Pesos | Media dos Ajustes | Desvio Padrão dos Ajustes | Menor número de épocas |\n",
      "+---------------------+--------------------+-------------------+---------------------------+------------------------+\n",
      "|         0.4         |    [-100, 100]     |       262.0       |     142.2364229021526     |           3            |\n",
      "|         0.4         |    [-0.5, 0.5]     |        7.6        |     3.006659275674582     |           2            |\n",
      "|         0.1         |    [-100, 100]     |       1533.4      |     474.2208768074219     |           8            |\n",
      "|         0.1         |    [-0.5, 0.5]     |        11.3       |     4.980963762164909     |           3            |\n",
      "|         0.01        |    [-100, 100]     |      10547.2      |     8075.931658948087     |           1            |\n",
      "|         0.01        |    [-0.5, 0.5]     |        72.5       |     42.879482272993926    |           2            |\n",
      "+---------------------+--------------------+-------------------+---------------------------+------------------------+\n"
     ]
    }
   ],
   "source": [
    "entrada_txt = 'data0.txt'\n",
    "tx_aprendizados = [0.4,0.1,0.01]\n",
    "vrandoms = [[-100,100],[-0.5,0.5]]\n",
    "pt = PrettyTable()\n",
    "pt.align = \"c\"\n",
    "pt.field_names = [\"Taxa de Aprendizado\", \"Intervalo de Pesos\", \"Media dos Ajustes\", \"Desvio Padrão dos Ajustes\",\n",
    "                  'Menor número de épocas']\n",
    "for  tx in tx_aprendizados:\n",
    "    for v_random in vrandoms:\n",
    "        ajustes_t = []\n",
    "        epcs_t = []\n",
    "        media_ajustes =0\n",
    "        #print('Taxa de aprendizado: ',tx)\n",
    "        #print('Intervalo de Pesos: ',v_random)\n",
    "        for i in range(10):\n",
    "            \n",
    "            rede1 = Perc(entrada=entrada_txt,f=0,w0=-1,apz=tx,vetori=v_random)\n",
    "            rede1.treino()\n",
    "            k = rede1.n_ajust\n",
    "            m = rede1.n_epc\n",
    "            ajustes_t.append(k)\n",
    "            epcs_t.append(m)\n",
    "        #print(ajustes_t,'\\n',epcs_t)\n",
    "        \n",
    "        pt.add_row([tx, v_random, np.mean(ajustes_t), np.std(ajustes_t),min(epcs_t)])\n",
    "        \n",
    "print(pt)\n",
    "        "
   ]
  },
  {
   "cell_type": "code",
   "execution_count": null,
   "id": "998c6ab5",
   "metadata": {},
   "outputs": [],
   "source": []
  },
  {
   "cell_type": "code",
   "execution_count": null,
   "id": "087b5ad6",
   "metadata": {},
   "outputs": [],
   "source": []
  },
  {
   "cell_type": "code",
   "execution_count": null,
   "id": "ded5150b",
   "metadata": {},
   "outputs": [],
   "source": []
  }
 ],
 "metadata": {
  "kernelspec": {
   "display_name": "Python 3 (ipykernel)",
   "language": "python",
   "name": "python3"
  },
  "language_info": {
   "codemirror_mode": {
    "name": "ipython",
    "version": 3
   },
   "file_extension": ".py",
   "mimetype": "text/x-python",
   "name": "python",
   "nbconvert_exporter": "python",
   "pygments_lexer": "ipython3",
   "version": "3.8.5"
  }
 },
 "nbformat": 4,
 "nbformat_minor": 5
}
