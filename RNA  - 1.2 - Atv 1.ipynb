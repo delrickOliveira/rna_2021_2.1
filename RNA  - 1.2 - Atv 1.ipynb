{
 "cells": [
  {
   "cell_type": "code",
   "execution_count": 1,
   "id": "0ae8aaaa",
   "metadata": {},
   "outputs": [],
   "source": [
    "import numpy as np\n",
    "import random as rd\n",
    "import matplotlib.pyplot as plt\n",
    "from prettytable import PrettyTable"
   ]
  },
  {
   "cell_type": "code",
   "execution_count": 2,
   "id": "e7f91e42",
   "metadata": {},
   "outputs": [],
   "source": [
    "class Perc ():\n",
    "    def __init__(self,entrada,f=0,w0=-1,apz=0.1,vetori=[-0.5,0.5]):\n",
    "        self.entrada = entrada\n",
    "        self.entradas,self.saidas = self.conv_inp_out(entrada)\n",
    "        self.total_entradas = len(self.entradas)\n",
    "        self.x = f\n",
    "        self.w0 = w0\n",
    "        self.apz = apz\n",
    "        self.pesos = []\n",
    "        self.p0 = []\n",
    "        self.vetori = vetori\n",
    "        self.n_epc = 0\n",
    "        self.n_ajust = 0\n",
    "    \n",
    "    def conv_inp_out (self,entrada):\n",
    "        dado = 'data/data/'+str(entrada)\n",
    "        data = np.fromfile(str(dado))\n",
    "        N = 3\n",
    "        saidas_a=[]\n",
    "        d_data = [data[n:n+N].tolist() for n in range(0, len(data), N)]\n",
    "        for i in d_data:\n",
    "            saidas_a.append(i[-1])\n",
    "            i.pop()\n",
    "        entradas_a = d_data\n",
    "        return (entradas_a,saidas_a)\n",
    "    \n",
    "    def treino(self):\n",
    "        \n",
    "        p1 = self.vetori[0]\n",
    "        p2 = self.vetori[1]\n",
    "        for i in range(3):\n",
    "            r = rd.uniform(p1,p2)\n",
    "            self.p0.append(r)\n",
    "        w0  = np.array(self.w0)\n",
    "\n",
    "\n",
    "        #print('Vetor de pesos Iniciais:',self.p0)\n",
    "\n",
    "        for entrada in self.entradas:\n",
    "            entrada.insert(0, -1)\n",
    "        self.entradas = np.array(self.entradas)\n",
    "        \n",
    "        \n",
    "        epcs = 0\n",
    "        ajustes = 0\n",
    "        while True:\n",
    "            ajus_epc=0\n",
    "            erro = False\n",
    "\n",
    "            for i in range(self.total_entradas): \n",
    "\n",
    "                u = 0\n",
    "                u = u + (np.vdot(self.entradas[i],self.p0))\n",
    "                y = self.activate(u)\n",
    "\n",
    "                if self.saidas[i]-y!=0.0:\n",
    "                    erro_aux = self.saidas[i]-y\n",
    "                    self.p0 = self.p0+(self.apz*erro_aux*(self.entradas[i]))\n",
    "                    ajustes += 1\n",
    "                    ajus_epc+=1\n",
    "                    #print(p0)\n",
    "                    self.pesos.append(self.p0)\n",
    "                    erro = True\n",
    "                    #print('Época ',epcs,': ',ajus_epc,' ajustes.')\n",
    "            epcs+=1\n",
    "            if not erro:\n",
    "                break\n",
    "        \n",
    "        #print('a) Alterações no vetor de Pesos:',ajustes)\n",
    "        self.n_ajust = ajustes\n",
    "        #print('Ultimo Vetor de Pesos: ',self.p0)\n",
    "        #print('-----------------------------------------------------------\\n')\n",
    "        #print(\"b) Números de épocas até a convergência:\",epcs)\n",
    "        self.n_epc+=epcs\n",
    "        #print('-----------------------------------------------------------\\n')\n",
    "        \n",
    "        \n",
    "    def activate(self,u):\n",
    "        if u>0:\n",
    "            return 1.0\n",
    "        else:\n",
    "            return 0.0\n",
    "        \n",
    "    def n_conv(self,):\n",
    "        #num_epc = int(self.n_epc)\n",
    "        return n_epc\n",
    "    \n",
    "    def n_ajus(self):\n",
    "        num_ajust = self.n_ajust\n",
    "        return num_ajust\n",
    "        \n",
    "    def plots(self):\n",
    "        plot_x_1 = []\n",
    "        plot_y_1 = []\n",
    "        plot_x_0 = []\n",
    "        plot_y_0 = []\n",
    "\n",
    "        plt.figure(figsize=(8,5))\n",
    "\n",
    "        for i in range (0,self.total_entradas):\n",
    "            if self.saidas[i]==1.0:\n",
    "                plot_x_1.append(self.entradas[i][1])\n",
    "                plot_y_1.append(self.entradas[i][2])\n",
    "            else:\n",
    "                plot_x_0.append(self.entradas[i][1])\n",
    "                plot_y_0.append(self.entradas[i][2])\n",
    "\n",
    "        x = plot_x_1\n",
    "        y = plot_y_1\n",
    "        a = plot_x_0\n",
    "        b = plot_y_0\n",
    "\n",
    "        plt.scatter(x,y,s=3,alpha=1)\n",
    "        plt.scatter(a,b,s=3,alpha=1, c='red')\n",
    "\n",
    "\n",
    "        aaaa=[]\n",
    "        bbbb = []\n",
    "        for i in range(-(self.total_entradas),self.total_entradas):\n",
    "            aaaa.append(i)\n",
    "            bbbb.append((self.p0[0]/self.p0[2])-(self.p0[1]/self.p0[2])*i)\n",
    "\n",
    "        plt.scatter(aaaa,bbbb,s=0.1,alpha=0.5, c='black')\n",
    "\n",
    "        print('Gráfico gerado')\n",
    "\n",
    "        plt.show() \n",
    "    "
   ]
  },
  {
   "cell_type": "markdown",
   "id": "9a073fdb",
   "metadata": {},
   "source": [
    "## Parte I - Resolvendo um Problema Linearmente Separável"
   ]
  },
  {
   "cell_type": "code",
   "execution_count": 3,
   "id": "aeb58c64",
   "metadata": {},
   "outputs": [],
   "source": [
    "rede = Perc(entrada='dataAll.txt',f=0,w0=-1,apz=0.1,vetori=[-0.5,0.5])"
   ]
  },
  {
   "cell_type": "code",
   "execution_count": 4,
   "id": "98fe2816",
   "metadata": {},
   "outputs": [
    {
     "name": "stdout",
     "output_type": "stream",
     "text": [
      "a) Número Total de Ajustes no Vetor de Pesos:  162\n",
      "b) Número de Épocas:  9\n"
     ]
    }
   ],
   "source": [
    "rede.treino()\n",
    "print('a) Número Total de Ajustes no Vetor de Pesos: ', rede.n_ajust)\n",
    "print('b) Número de Épocas: ',rede.n_epc)"
   ]
  },
  {
   "cell_type": "code",
   "execution_count": 5,
   "id": "38c82146",
   "metadata": {},
   "outputs": [
    {
     "name": "stdout",
     "output_type": "stream",
     "text": [
      "Gráfico gerado\n"
     ]
    },
    {
     "data": {
      "image/png": "[encoded data removed]",
      "text/plain": [
       "<Figure size 576x360 with 1 Axes>"
      ]
     },
     "metadata": {
      "needs_background": "light"
     },
     "output_type": "display_data"
    }
   ],
   "source": [
    "rede.plots()"
   ]
  },
  {
   "cell_type": "code",
   "execution_count": null,
   "id": "6feeb6fe",
   "metadata": {},
   "outputs": [],
   "source": []
  },
  {
   "cell_type": "code",
   "execution_count": 6,
   "id": "501f59bb",
   "metadata": {},
   "outputs": [
    {
     "name": "stdout",
     "output_type": "stream",
     "text": [
      "+---------------------+--------------------+-------------------+---------------------------+------------------------+\n",
      "| Taxa de Aprendizado | Intervalo de Pesos | Media dos Ajustes | Desvio Padrão dos Ajustes | Menor número de épocas |\n",
      "+---------------------+--------------------+-------------------+---------------------------+------------------------+\n",
      "|         0.4         |    [-100, 100]     |       258.2       |     143.33931770452932    |           4            |\n",
      "|         0.4         |    [-0.5, 0.5]     |        6.4        |     1.4966629547095764    |           3            |\n",
      "|         0.1         |    [-100, 100]     |       908.9       |      687.315422495378     |           6            |\n",
      "|         0.1         |    [-0.5, 0.5]     |        8.7        |     7.1000000000000005    |           2            |\n",
      "|         0.01        |    [-100, 100]     |       9292.9      |     8218.494514812308     |           37           |\n",
      "|         0.01        |    [-0.5, 0.5]     |        69.9       |     48.49422646047672     |           2            |\n",
      "+---------------------+--------------------+-------------------+---------------------------+------------------------+\n"
     ]
    }
   ],
   "source": [
    "entrada_txt = 'data0.txt'\n",
    "tx_aprendizados = [0.4,0.1,0.01]\n",
    "vrandoms = [[-100,100],[-0.5,0.5]]\n",
    "pt = PrettyTable()\n",
    "pt.align = \"c\"\n",
    "pt.field_names = [\"Taxa de Aprendizado\", \"Intervalo de Pesos\", \"Media dos Ajustes\", \"Desvio Padrão dos Ajustes\",\n",
    "                  'Menor número de épocas']\n",
    "for  tx in tx_aprendizados:\n",
    "    for v_random in vrandoms:\n",
    "        ajustes_t = []\n",
    "        epcs_t = []\n",
    "        media_ajustes =0\n",
    "        #print('Taxa de aprendizado: ',tx)\n",
    "        #print('Intervalo de Pesos: ',v_random)\n",
    "        for i in range(10):\n",
    "            \n",
    "            rede1 = Perc(entrada=entrada_txt,f=0,w0=-1,apz=tx,vetori=v_random)\n",
    "            rede1.treino()\n",
    "            k = rede1.n_ajust\n",
    "            m = rede1.n_epc\n",
    "            ajustes_t.append(k)\n",
    "            epcs_t.append(m)\n",
    "        #print(ajustes_t,'\\n',epcs_t)\n",
    "        \n",
    "        pt.add_row([tx, v_random, np.mean(ajustes_t), np.std(ajustes_t),min(epcs_t)])\n",
    "        \n",
    "print(pt)\n",
    "        "
   ]
  },
  {
   "cell_type": "markdown",
   "id": "25fb361b",
   "metadata": {},
   "source": [
    "    -- Como podemos verificar na tabela, Realizar a aprendizagem com Intervalos altos (-100,+100 - no exemplo), resulta em maior número de Ajustes, mas nem sempre reflete na quantidade de números de épocas.\n",
    "    -- O pior caso realizado, e presente na tabela, é no caso onde há uma taxa de aprendizado baixa (0.01) e um Intervalo de pesos alta (-100,+100), com as maiores médias e desvios padrões.\n",
    "    -- Utilizando intervalo de pesos menores (-0.5,+0.5), podemos verificar resultados melhores. Nos testes, utilizando este intervalo com as taxas T1= 0.1 e T2= 0.4, não podemos citar que um se sobressai melhor que outro, pois houve testes onde as Médias,DP e Épocas de T1 foram melhores que T2, mas também ocorreu o inverso em outra iteração.\n",
    "    -- Utilizando um intervalo de pesos relativamente baixo (-0.5,+0.5) com uma Taxa de Aprendizado baixa (0.01), podemos verificar um aumento na quantidade de Ajustes, que se comparado, com taxas de aprendizado maiores (0.1 e 0.4), com o mesmo intervalo de pesos, são elevados."
   ]
  },
  {
   "cell_type": "code",
   "execution_count": null,
   "id": "818adf11",
   "metadata": {},
   "outputs": [],
   "source": []
  },
  {
   "cell_type": "code",
   "execution_count": null,
   "id": "0a94b2e3",
   "metadata": {},
   "outputs": [],
   "source": []
  }
 ],
 "metadata": {
  "kernelspec": {
   "display_name": "Python 3 (ipykernel)",
   "language": "python",
   "name": "python3"
  },
  "language_info": {
   "codemirror_mode": {
    "name": "ipython",
    "version": 3
   },
   "file_extension": ".py",
   "mimetype": "text/x-python",
   "name": "python",
   "nbconvert_exporter": "python",
   "pygments_lexer": "ipython3",
   "version": "3.8.5"
  }
 },
 "nbformat": 4,
 "nbformat_minor": 5
}
