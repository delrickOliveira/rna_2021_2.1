{
 "cells": [
  {
   "cell_type": "code",
   "execution_count": 56,
   "id": "0ae8aaaa",
   "metadata": {},
   "outputs": [],
   "source": [
    "import numpy as np\n",
    "import random\n",
    "import matplotlib.pyplot as plt"
   ]
  },
  {
   "cell_type": "code",
   "execution_count": 105,
   "id": "d872f0c1",
   "metadata": {},
   "outputs": [],
   "source": [
    "data = np.fromfile('data/data/dataAll.txt')\n",
    "N = 3\n",
    "saidas_a=[]\n",
    "d_data = [data[n:n+N].tolist() for n in range(0, len(data), N)]\n",
    "for i in d_data:\n",
    "    saidas_a.append(i[-1])\n",
    "    i.pop()\n",
    "entradas_a = d_data\n",
    "\n",
    "\n",
    "\n",
    "entradas = entradas_a\n",
    "total_entradas = len(entradas)\n",
    "saidas = saidas_a\n",
    "f = 0\n",
    "w0 = -1\n",
    "apz = 0.1\n",
    "pesos = []\n",
    "p0 = []\n",
    "for i in range(3):\n",
    "            p0.append(random.uniform(-0.5,0.5))\n",
    "w0  = np.array(w0)\n",
    "\n",
    "\n",
    "for entrada in entradas:\n",
    "    entrada.insert(0, -1)\n",
    "entradas = np.array(entradas)"
   ]
  },
  {
   "cell_type": "code",
   "execution_count": null,
   "id": "93716052",
   "metadata": {},
   "outputs": [],
   "source": []
  },
  {
   "cell_type": "code",
   "execution_count": null,
   "id": "52762aeb",
   "metadata": {},
   "outputs": [],
   "source": []
  },
  {
   "cell_type": "code",
   "execution_count": null,
   "id": "9627dd59",
   "metadata": {},
   "outputs": [],
   "source": []
  },
  {
   "cell_type": "code",
   "execution_count": null,
   "id": "881ba64b",
   "metadata": {},
   "outputs": [],
   "source": []
  },
  {
   "cell_type": "code",
   "execution_count": 106,
   "id": "d971d0ce",
   "metadata": {},
   "outputs": [],
   "source": [
    "def activate(x):\n",
    "    if x>0:\n",
    "        return 1.0\n",
    "    else:\n",
    "        return 0.0"
   ]
  },
  {
   "cell_type": "code",
   "execution_count": 108,
   "id": "b49439ea",
   "metadata": {},
   "outputs": [
    {
     "name": "stdout",
     "output_type": "stream",
     "text": [
      "0\n",
      "1\n",
      "2\n",
      "3\n",
      "4\n",
      "5\n",
      "6\n",
      "7\n",
      "8\n",
      "[-3.66581124e-01  5.52692214e+02 -5.53206871e+02]\n"
     ]
    }
   ],
   "source": [
    "epcs = 0\n",
    "while True:\n",
    "    print(epcs)\n",
    "    erro = False\n",
    "    \n",
    "    for i in range(total_entradas): \n",
    "        \n",
    "        u = 0\n",
    "        u = u + (np.vdot(entradas[i],p0))\n",
    "        y = activate(u)\n",
    "        \n",
    "        if saidas[i]-y!=0.0:\n",
    "            erro_aux = saidas[i]-y\n",
    "            p0 = p0+(0.1*erro_aux*(entradas[i]))\n",
    "            #print('AAAAA')\n",
    "            erro = True\n",
    "    epcs+=1\n",
    "    if not erro:\n",
    "        break\n",
    "    \n",
    "print(p0)"
   ]
  },
  {
   "cell_type": "code",
   "execution_count": null,
   "id": "832db10c",
   "metadata": {},
   "outputs": [],
   "source": []
  }
 ],
 "metadata": {
  "kernelspec": {
   "display_name": "Python 3 (ipykernel)",
   "language": "python",
   "name": "python3"
  },
  "language_info": {
   "codemirror_mode": {
    "name": "ipython",
    "version": 3
   },
   "file_extension": ".py",
   "mimetype": "text/x-python",
   "name": "python",
   "nbconvert_exporter": "python",
   "pygments_lexer": "ipython3",
   "version": "3.8.5"
  }
 },
 "nbformat": 4,
 "nbformat_minor": 5
}
