{
 "cells": [
  {
   "cell_type": "code",
   "execution_count": 1,
   "id": "0ae8aaaa",
   "metadata": {},
   "outputs": [],
   "source": [
    "import numpy as np\n",
    "import random\n",
    "import matplotlib.pyplot as plt"
   ]
  },
  {
   "cell_type": "code",
   "execution_count": 2,
   "id": "d872f0c1",
   "metadata": {},
   "outputs": [
    {
     "name": "stdout",
     "output_type": "stream",
     "text": [
      "[0.20006166182010743, -0.3568550487490756, 0.4350699566256412]\n"
     ]
    }
   ],
   "source": [
    "data = np.fromfile('data/data/dataAll.txt')\n",
    "N = 3\n",
    "saidas_a=[]\n",
    "d_data = [data[n:n+N].tolist() for n in range(0, len(data), N)]\n",
    "for i in d_data:\n",
    "    saidas_a.append(i[-1])\n",
    "    i.pop()\n",
    "entradas_a = d_data\n",
    "graf_x = entradas_a\n",
    "graf_y = saidas_a\n",
    "\n",
    "\n",
    "\n",
    "entradas = entradas_a\n",
    "total_entradas = len(entradas)\n",
    "saidas = saidas_a\n",
    "f = 0\n",
    "w0 = -1\n",
    "apz = 0.1\n",
    "pesos = []\n",
    "p0 = []\n",
    "for i in range(3):\n",
    "            p0.append(random.uniform(-0.5,0.5))\n",
    "w0  = np.array(w0)\n",
    "\n",
    "print(p0)\n",
    "for entrada in entradas:\n",
    "    entrada.insert(0, -1)\n",
    "entradas = np.array(entradas)"
   ]
  },
  {
   "cell_type": "code",
   "execution_count": null,
   "id": "93716052",
   "metadata": {},
   "outputs": [],
   "source": []
  },
  {
   "cell_type": "code",
   "execution_count": null,
   "id": "52762aeb",
   "metadata": {},
   "outputs": [],
   "source": []
  },
  {
   "cell_type": "code",
   "execution_count": null,
   "id": "9627dd59",
   "metadata": {},
   "outputs": [],
   "source": []
  },
  {
   "cell_type": "code",
   "execution_count": null,
   "id": "881ba64b",
   "metadata": {},
   "outputs": [],
   "source": []
  },
  {
   "cell_type": "code",
   "execution_count": 3,
   "id": "d971d0ce",
   "metadata": {},
   "outputs": [],
   "source": [
    "def activate(x):\n",
    "    if x>0:\n",
    "        return 1.0\n",
    "    else:\n",
    "        return 0.0"
   ]
  },
  {
   "cell_type": "code",
   "execution_count": 4,
   "id": "b49439ea",
   "metadata": {},
   "outputs": [
    {
     "name": "stdout",
     "output_type": "stream",
     "text": [
      "[  0.30006166  36.02198495 -23.97916004]\n",
      "[   0.40006166  -17.63706505 -100.47491004]\n",
      "[  0.30006166  55.15895495 -64.64535004]\n",
      "[  0.20006166 137.75765495  15.21047996]\n",
      "[  0.30006166 143.60341495 -63.08411004]\n",
      "[   0.40006166  103.59450495 -140.97680004]\n",
      "[  0.50006166 157.26431495 -91.88453004]\n",
      "[   0.40006166  104.30425495 -148.75399004]\n",
      "[  0.50006166 163.86377495 -98.63166004]\n",
      "[   0.40006166  118.33914495 -164.26759004]\n",
      "[  0.50006166 209.05500495 -89.55427004]\n",
      "[   0.40006166  151.27401495 -149.86242004]\n",
      "[   0.30006166  103.00745495 -198.33214004]\n",
      "[   0.20006166  173.45480495 -156.21587004]\n",
      "[ 1.00061662e-01  1.26612805e+02 -2.07625740e+02]\n",
      "[ 6.16618201e-05  1.96476435e+02 -1.43406800e+02]\n",
      "[ 1.00061662e-01  1.40640705e+02 -1.99584330e+02]\n",
      "[ 6.16618201e-05  2.17628175e+02 -1.34735000e+02]\n",
      "[-9.99383382e-02  1.81358135e+02 -1.77963040e+02]\n",
      "[ 6.16618201e-05  1.63118995e+02 -1.96296680e+02]\n",
      "[-9.99383382e-02  2.38541435e+02 -1.30241570e+02]\n",
      "[-1.99938338e-01  1.74182305e+02 -2.12664010e+02]\n",
      "[-9.99383382e-02  2.65490515e+02 -1.29393240e+02]\n",
      "[-1.99938338e-01  2.18445685e+02 -2.17297180e+02]\n",
      "[  -0.29993834  170.17912495 -265.76690004]\n",
      "[  -0.39993834  240.04275495 -201.54796004]\n",
      "[  -0.29993834  184.20702495 -257.72549004]\n",
      "[  -0.39993834  261.19449495 -192.87616004]\n",
      "[  -0.49993834  224.92445495 -236.10420004]\n",
      "[  -0.59993834  307.81632495 -153.32271004]\n",
      "[  -0.69993834  261.66894495 -209.97209004]\n",
      "[  -0.59993834  235.04332495 -242.49446004]\n",
      "[  -0.69993834  282.06768495 -195.94029004]\n",
      "[  -0.79993834  252.18362495 -229.04962004]\n",
      "[  -0.69993834  233.94448495 -247.38326004]\n",
      "[  -0.59993834  265.25136495 -216.75494004]\n",
      "[  -0.49993834  189.69746495 -294.07789004]\n",
      "[  -0.39993834  258.67335495 -229.28696004]\n",
      "[-2.99938338e-01  1.62861805e+02 -3.27168700e+02]\n",
      "[  -0.39993834  244.03553495 -275.82076004]\n",
      "[-2.99938338e-01  3.43503365e+02 -1.83931200e+02]\n",
      "[  -0.39993834  284.79844495 -276.26845004]\n",
      "[-2.99938338e-01  2.40940315e+02 -3.20807460e+02]\n",
      "[  -0.39993834  328.18342495 -253.89554004]\n",
      "[  -0.29993834  296.76045495 -288.27929004]\n",
      "[  -0.39993834  246.85063495 -339.53972004]\n",
      "[  -0.49993834  274.31422495 -318.68337004]\n",
      "[  -0.39993834  323.77504495 -269.78932004]\n",
      "[-2.99938338e-01  2.95567585e+02 -3.03373440e+02]\n",
      "[-1.99938338e-01  3.82702345e+02 -2.16683610e+02]\n",
      "[-9.99383382e-02  3.30787015e+02 -2.72884630e+02]\n",
      "[ 6.16618201e-05  2.65900985e+02 -3.47500720e+02]\n",
      "[-9.99383382e-02  3.55609785e+02 -2.68492000e+02]\n",
      "[-1.99938338e-01  2.78146835e+02 -3.66479710e+02]\n",
      "[-2.99938338e-01  3.23052175e+02 -3.23075770e+02]\n",
      "Ultimos pesos:  [-2.99938338e-01  3.23052175e+02 -3.23075770e+02]\n",
      "Números de epocas: 4\n"
     ]
    }
   ],
   "source": [
    "epcs = 0\n",
    "ajustes = 0\n",
    "while True:\n",
    "    erro = False\n",
    "    \n",
    "    for i in range(total_entradas): \n",
    "        \n",
    "        u = 0\n",
    "        u = u + (np.vdot(entradas[i],p0))\n",
    "        y = activate(u)\n",
    "        \n",
    "        if saidas[i]-y!=0.0:\n",
    "            erro_aux = saidas[i]-y\n",
    "            p0 = p0+(0.1*erro_aux*(entradas[i]))\n",
    "            ajustes += 1\n",
    "            print(p0)\n",
    "            pesos.append(p0)\n",
    "            erro = True\n",
    "    epcs+=1\n",
    "    if not erro:\n",
    "        break\n",
    "    \n",
    "print('Ultimos pesos: ',p0)\n",
    "print(\"Números de epocas:\",epcs)"
   ]
  },
  {
   "cell_type": "code",
   "execution_count": null,
   "id": "832db10c",
   "metadata": {},
   "outputs": [],
   "source": []
  },
  {
   "cell_type": "code",
   "execution_count": null,
   "id": "14f5cdb6",
   "metadata": {},
   "outputs": [],
   "source": []
  },
  {
   "cell_type": "code",
   "execution_count": null,
   "id": "8acbc42b",
   "metadata": {},
   "outputs": [],
   "source": []
  },
  {
   "cell_type": "code",
   "execution_count": null,
   "id": "2d6e992f",
   "metadata": {},
   "outputs": [],
   "source": []
  },
  {
   "cell_type": "code",
   "execution_count": 5,
   "id": "dae908a3",
   "metadata": {},
   "outputs": [
    {
     "data": {
      "image/png": "[encoded data removed]",
      "text/plain": [
       "<Figure size 432x288 with 1 Axes>"
      ]
     },
     "metadata": {
      "needs_background": "light"
     },
     "output_type": "display_data"
    }
   ],
   "source": [
    "plot_x_1 = []\n",
    "plot_y_1 = []\n",
    "plot_x_0 = []\n",
    "plot_y_0 = []\n",
    "\n",
    "for i in range (0,1000):\n",
    "    if saidas_a[i]==1.0:\n",
    "        plot_x_1.append(entradas_a[i][1])\n",
    "        plot_y_1.append(entradas_a[i][2])\n",
    "    else:\n",
    "        plot_x_0.append(entradas_a[i][1])\n",
    "        plot_y_0.append(entradas_a[i][2])\n",
    "        \n",
    "x = plot_x_1\n",
    "y = plot_y_1\n",
    "a = plot_x_0\n",
    "b = plot_y_0\n",
    "\n",
    "\n",
    "plt.plot(x, y, 'bo')\n",
    "plt.plot(a, b, 'ro')\n",
    "\n",
    "\n",
    "aaaa=[]\n",
    "bbbb = []\n",
    "for i in range(-(total_entradas),total_entradas):\n",
    "    aaaa.append(i)\n",
    "    bbbb.append((p0[0]/p0[2])-(p0[1]/p0[2])*i)\n",
    "    \n",
    "plt.plot(aaaa, bbbb,'black')\n",
    "\n",
    "\n",
    "plt.show()  "
   ]
  },
  {
   "cell_type": "code",
   "execution_count": null,
   "id": "df3e5b25",
   "metadata": {},
   "outputs": [],
   "source": []
  },
  {
   "cell_type": "code",
   "execution_count": null,
   "id": "e7f91e42",
   "metadata": {},
   "outputs": [],
   "source": []
  }
 ],
 "metadata": {
  "kernelspec": {
   "display_name": "Python 3 (ipykernel)",
   "language": "python",
   "name": "python3"
  },
  "language_info": {
   "codemirror_mode": {
    "name": "ipython",
    "version": 3
   },
   "file_extension": ".py",
   "mimetype": "text/x-python",
   "name": "python",
   "nbconvert_exporter": "python",
   "pygments_lexer": "ipython3",
   "version": "3.8.5"
  }
 },
 "nbformat": 4,
 "nbformat_minor": 5
}
