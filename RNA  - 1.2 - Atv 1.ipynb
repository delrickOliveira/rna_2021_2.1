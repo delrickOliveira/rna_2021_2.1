{
 "cells": [
  {
   "cell_type": "code",
   "execution_count": 1,
   "id": "0ae8aaaa",
   "metadata": {},
   "outputs": [],
   "source": [
    "import numpy as np\n",
    "import random as rd\n",
    "import matplotlib.pyplot as plt"
   ]
  },
  {
   "cell_type": "code",
   "execution_count": 25,
   "id": "e7f91e42",
   "metadata": {},
   "outputs": [],
   "source": [
    "class Perc ():\n",
    "    def __init__(self,entrada,f=0,w0=-1,apz=0.1,vetori=[-0.5,0.5]):\n",
    "        self.entrada = entrada\n",
    "        self.entradas,self.saidas = self.conv_inp_out(entrada)\n",
    "        self.total_entradas = len(self.entradas)\n",
    "        self.x = f\n",
    "        self.w0 = w0\n",
    "        self.apz = apz\n",
    "        self.pesos = []\n",
    "        self.p0 = []\n",
    "        self.vetori = vetori\n",
    "    \n",
    "    def conv_inp_out (self,entrada):\n",
    "        dado = 'data/data/'+str(entrada)\n",
    "        data = np.fromfile(str(dado))\n",
    "        N = 3\n",
    "        saidas_a=[]\n",
    "        d_data = [data[n:n+N].tolist() for n in range(0, len(data), N)]\n",
    "        for i in d_data:\n",
    "            saidas_a.append(i[-1])\n",
    "            i.pop()\n",
    "        entradas_a = d_data\n",
    "        return (entradas_a,saidas_a)\n",
    "    \n",
    "    def treino(self):\n",
    "        \n",
    "        p1 = self.vetori[0]\n",
    "        p2 = self.vetori[1]\n",
    "        for i in range(3):\n",
    "            r = rd.uniform(p1,p2)\n",
    "            self.p0.append(r)\n",
    "        w0  = np.array(self.w0)\n",
    "\n",
    "\n",
    "        print('Vetor de pesos Iniciais:',self.p0)\n",
    "\n",
    "        for entrada in self.entradas:\n",
    "            entrada.insert(0, -1)\n",
    "        self.entradas = np.array(self.entradas)\n",
    "        \n",
    "        \n",
    "        epcs = 0\n",
    "        ajustes = 0\n",
    "        while True:\n",
    "            erro = False\n",
    "\n",
    "            for i in range(self.total_entradas): \n",
    "\n",
    "                u = 0\n",
    "                u = u + (np.vdot(self.entradas[i],self.p0))\n",
    "                y = self.activate(u)\n",
    "\n",
    "                if self.saidas[i]-y!=0.0:\n",
    "                    erro_aux = self.saidas[i]-y\n",
    "                    self.p0 = self.p0+(self.apz*erro_aux*(self.entradas[i]))\n",
    "                    ajustes += 1\n",
    "                    #print(p0)\n",
    "                    self.pesos.append(self.p0)\n",
    "                    erro = True\n",
    "            epcs+=1\n",
    "            if not erro:\n",
    "                break\n",
    "\n",
    "        print('a) Alterações no vetor de Pesos:',ajustes)\n",
    "        print('Ultimo Vetor de Pesos: ',self.p0)\n",
    "        print('-----------------------------------------------------------\\n')\n",
    "        print(\"b) Números de épocas até a convergência:\",epcs)\n",
    "        print('-----------------------------------------------------------\\n')\n",
    "        \n",
    "        \n",
    "    def activate(self,u):\n",
    "        if u>0:\n",
    "            return 1.0\n",
    "        else:\n",
    "            return 0.0\n",
    "        \n",
    "    def plots(self):\n",
    "        plot_x_1 = []\n",
    "        plot_y_1 = []\n",
    "        plot_x_0 = []\n",
    "        plot_y_0 = []\n",
    "\n",
    "        plt.figure(figsize=(8,5))\n",
    "\n",
    "        for i in range (0,1000):\n",
    "            if self.saidas[i]==1.0:\n",
    "                plot_x_1.append(self.entradas[i][1])\n",
    "                plot_y_1.append(self.entradas[i][2])\n",
    "            else:\n",
    "                plot_x_0.append(self.entradas[i][1])\n",
    "                plot_y_0.append(self.entradas[i][2])\n",
    "\n",
    "        x = plot_x_1\n",
    "        y = plot_y_1\n",
    "        a = plot_x_0\n",
    "        b = plot_y_0\n",
    "\n",
    "        plt.scatter(x,y,s=3,alpha=1)\n",
    "        plt.scatter(a,b,s=3,alpha=1, c='red')\n",
    "\n",
    "\n",
    "        aaaa=[]\n",
    "        bbbb = []\n",
    "        for i in range(-(self.total_entradas),self.total_entradas):\n",
    "            aaaa.append(i)\n",
    "            bbbb.append((self.p0[0]/self.p0[2])-(self.p0[1]/self.p0[2])*i)\n",
    "\n",
    "        plt.scatter(aaaa,bbbb,s=0.1,alpha=0.5, c='black')\n",
    "\n",
    "        print('c) Gráfico gerado')\n",
    "\n",
    "        plt.show() \n",
    "    "
   ]
  },
  {
   "cell_type": "markdown",
   "id": "264d75e3",
   "metadata": {},
   "source": [
    "## Parte I - Resolvendo um Problema Linearmente Separável"
   ]
  },
  {
   "cell_type": "code",
   "execution_count": 26,
   "id": "a89435e2",
   "metadata": {},
   "outputs": [],
   "source": [
    "rede = Perc(entrada='dataAll.txt',f=0,w0=-1,apz=0.1,vetori=[-0.5,0.5])"
   ]
  },
  {
   "cell_type": "code",
   "execution_count": 27,
   "id": "d66a3248",
   "metadata": {},
   "outputs": [
    {
     "name": "stdout",
     "output_type": "stream",
     "text": [
      "Vetor de pesos Iniciais: [-0.3512909365500013, 0.16951949322278503, 0.22156906244717267]\n",
      "a) Alterações no vetor de Pesos: 218\n",
      "Ultimo Vetor de Pesos:  [  -2.55129094  633.31083949 -631.64032094]\n",
      "-----------------------------------------------------------\n",
      "\n",
      "b) Números de épocas até a convergência: 18\n",
      "-----------------------------------------------------------\n",
      "\n"
     ]
    }
   ],
   "source": [
    "rede.treino()"
   ]
  },
  {
   "cell_type": "code",
   "execution_count": 28,
   "id": "c923beaf",
   "metadata": {},
   "outputs": [
    {
     "name": "stdout",
     "output_type": "stream",
     "text": [
      "c) Gráfico gerado\n"
     ]
    },
    {
     "data": {
      "image/png": "[encoded data removed]",
      "text/plain": [
       "<Figure size 576x360 with 1 Axes>"
      ]
     },
     "metadata": {
      "needs_background": "light"
     },
     "output_type": "display_data"
    }
   ],
   "source": [
    "rede.plots()"
   ]
  },
  {
   "cell_type": "code",
   "execution_count": 33,
   "id": "95d91fcd",
   "metadata": {},
   "outputs": [
    {
     "name": "stdout",
     "output_type": "stream",
     "text": [
      "Taxa de aprendizado:  0.4\n",
      "Intervalo de Pesos:  [-100, 100]\n",
      "Vetor de pesos Iniciais: [-52.19974056100198, 30.90992680975674, -13.197263501708818]\n",
      "a) Alterações no vetor de Pesos: 271\n",
      "Ultimo Vetor de Pesos:  [6.60025944 3.23433209 9.98654871]\n",
      "-----------------------------------------------------------\n",
      "\n",
      "b) Números de épocas até a convergência: 6\n",
      "-----------------------------------------------------------\n",
      "\n",
      "Taxa de aprendizado:  0.4\n",
      "Intervalo de Pesos:  [-0.5, 0.5]\n",
      "Vetor de pesos Iniciais: [-0.13353412997477432, 0.4186644158486408, 0.24987940574290957]\n",
      "a) Alterações no vetor de Pesos: 3\n",
      "Ultimo Vetor de Pesos:  [0.26646587 0.03847876 0.60343272]\n",
      "-----------------------------------------------------------\n",
      "\n",
      "b) Números de épocas até a convergência: 2\n",
      "-----------------------------------------------------------\n",
      "\n",
      "Taxa de aprendizado:  0.1\n",
      "Intervalo de Pesos:  [-100, 100]\n",
      "Vetor de pesos Iniciais: [-35.70740699484088, 24.259057055935983, -40.97475714159435]\n",
      "a) Alterações no vetor de Pesos: 1164\n",
      "Ultimo Vetor de Pesos:  [0.09259301 0.02281697 0.20830247]\n",
      "-----------------------------------------------------------\n",
      "\n",
      "b) Números de épocas até a convergência: 7\n",
      "-----------------------------------------------------------\n",
      "\n",
      "Taxa de aprendizado:  0.1\n",
      "Intervalo de Pesos:  [-0.5, 0.5]\n",
      "Vetor de pesos Iniciais: [0.2605808931956005, -0.4975888856327634, 0.22476161252195892]\n",
      "a) Alterações no vetor de Pesos: 7\n",
      "Ultimo Vetor de Pesos:  [ 0.16058089 -0.13800943  0.60914086]\n",
      "-----------------------------------------------------------\n",
      "\n",
      "b) Números de épocas até a convergência: 3\n",
      "-----------------------------------------------------------\n",
      "\n",
      "Taxa de aprendizado:  0.01\n",
      "Intervalo de Pesos:  [-100, 100]\n",
      "Vetor de pesos Iniciais: [-99.71023936082759, -38.00967255659824, 15.783098558995917]\n",
      "a) Alterações no vetor de Pesos: 17897\n",
      "Ultimo Vetor de Pesos:  [ 12.71976064 -18.90883975  42.26822281]\n",
      "-----------------------------------------------------------\n",
      "\n",
      "b) Números de épocas até a convergência: 567\n",
      "-----------------------------------------------------------\n",
      "\n",
      "Taxa de aprendizado:  0.01\n",
      "Intervalo de Pesos:  [-0.5, 0.5]\n",
      "Vetor de pesos Iniciais: [0.2015675589022774, -0.12196855600621681, -0.3499256608623159]\n",
      "a) Alterações no vetor de Pesos: 66\n",
      "Ultimo Vetor de Pesos:  [ 0.02156756 -0.02452726  0.06175803]\n",
      "-----------------------------------------------------------\n",
      "\n",
      "b) Números de épocas até a convergência: 5\n",
      "-----------------------------------------------------------\n",
      "\n"
     ]
    }
   ],
   "source": [
    "entrada_txt = 'data0.txt'\n",
    "tx_aprendizados = [0.4,0.1,0.01]\n",
    "vrandoms = [[-100,100],[-0.5,0.5]]\n",
    "\n",
    "for  tx in tx_aprendizados:\n",
    "    for v_random in vrandoms:\n",
    "        print('Taxa de aprendizado: ',tx)\n",
    "        print('Intervalo de Pesos: ',v_random)\n",
    "        rede1 = Perc(entrada=entrada_txt,f=0,w0=-1,apz=tx,vetori=v_random)\n",
    "        rede1.treino()"
   ]
  },
  {
   "cell_type": "code",
   "execution_count": null,
   "id": "0d5e4fe9",
   "metadata": {},
   "outputs": [],
   "source": [
    "vetori=[-0.5,0.5]\n",
    "vetori[0]"
   ]
  },
  {
   "cell_type": "code",
   "execution_count": null,
   "id": "2b347a45",
   "metadata": {},
   "outputs": [],
   "source": []
  }
 ],
 "metadata": {
  "kernelspec": {
   "display_name": "Python 3 (ipykernel)",
   "language": "python",
   "name": "python3"
  },
  "language_info": {
   "codemirror_mode": {
    "name": "ipython",
    "version": 3
   },
   "file_extension": ".py",
   "mimetype": "text/x-python",
   "name": "python",
   "nbconvert_exporter": "python",
   "pygments_lexer": "ipython3",
   "version": "3.8.5"
  }
 },
 "nbformat": 4,
 "nbformat_minor": 5
}
