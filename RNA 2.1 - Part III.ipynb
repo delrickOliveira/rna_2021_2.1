{
 "cells": [
  {
   "cell_type": "code",
   "execution_count": 1,
   "id": "f9bcb370",
   "metadata": {},
   "outputs": [],
   "source": [
    "import numpy as np\n",
    "import pandas as pd\n",
    "import random as rd\n",
    "import matplotlib.pyplot as plt"
   ]
  },
  {
   "cell_type": "code",
   "execution_count": null,
   "id": "46aa7a1e",
   "metadata": {},
   "outputs": [],
   "source": []
  },
  {
   "cell_type": "code",
   "execution_count": null,
   "id": "f0fda1c7",
   "metadata": {},
   "outputs": [],
   "source": []
  },
  {
   "cell_type": "code",
   "execution_count": 2,
   "id": "57245228",
   "metadata": {},
   "outputs": [],
   "source": [
    "def conv_inp_out (entrada):\n",
    "    dado = 'data/data/'+str(entrada)\n",
    "    data = np.fromfile(str(dado))\n",
    "    N = 3\n",
    "    saidas_a=[]\n",
    "    d_data = [data[n:n+N].tolist() for n in range(0, len(data), N)]\n",
    "    entrada_full = [data[n:n+N].tolist() for n in range(0, len(data), N)]\n",
    "    for i in d_data:\n",
    "        saidas_a.append(i[-1])\n",
    "        i.pop()\n",
    "        entradas_a = d_data\n",
    "        \n",
    "    return (entradas_a,saidas_a,entrada_full)"
   ]
  },
  {
   "cell_type": "code",
   "execution_count": 3,
   "id": "df7fdbca",
   "metadata": {},
   "outputs": [],
   "source": [
    "def plot_pts(entradas,saidas,title):\n",
    "    #Função para plotar gráfico com pontos (x,y) mais dispersos\n",
    "    plot_x_1 = []\n",
    "    plot_y_1 = []\n",
    "    plot_x_0 = []\n",
    "    plot_y_0 = []\n",
    "    \n",
    "    \n",
    "    for i in range (0,len(entradas)):\n",
    "        \n",
    "        if len(entradas[i])==2:\n",
    "            if saidas[i]==1.0:\n",
    "                plot_x_1.append(entradas[i][0])\n",
    "                plot_y_1.append(entradas[i][1])\n",
    "            else:\n",
    "                plot_x_0.append(entradas[i][0])\n",
    "                plot_y_0.append(entradas[i][1])\n",
    "        else:\n",
    "            if saidas[i]==1.0:\n",
    "                plot_x_1.append(entradas[i][1])\n",
    "                plot_y_1.append(entradas[i][2])\n",
    "            else:\n",
    "                plot_x_0.append(entradas[i][1])\n",
    "                plot_y_0.append(entradas[i][2])        \n",
    "        \n",
    "\n",
    "    x = plot_x_1\n",
    "    y = plot_y_1\n",
    "    a = plot_x_0\n",
    "    b = plot_y_0\n",
    "    \n",
    "    plt.figure(figsize=(8,5))\n",
    "    plt.scatter(x,y,s=3,alpha=1,label = 'Classe 1')\n",
    "    plt.scatter(a,b,s=3,alpha=1, c='red', label= 'Classe 0')\n",
    "    plt.title(title)\n",
    "    plt.legend()\n",
    "    #print('Gráfico gerado')\n",
    "    plt.show()"
   ]
  },
  {
   "cell_type": "code",
   "execution_count": 4,
   "id": "2865a197",
   "metadata": {},
   "outputs": [],
   "source": [
    "entrada,saida,t_entrada = conv_inp_out('dataHoldout.txt')"
   ]
  },
  {
   "cell_type": "code",
   "execution_count": 5,
   "id": "d24aa793",
   "metadata": {},
   "outputs": [
    {
     "data": {
      "image/png": "[encoded data removed]",
      "text/plain": [
       "<Figure size 576x360 with 1 Axes>"
      ]
     },
     "metadata": {
      "needs_background": "light"
     },
     "output_type": "display_data"
    }
   ],
   "source": [
    "plot_pts(entrada,saida,'Distribuição das Classes no Plano Cartesiano')"
   ]
  },
  {
   "cell_type": "markdown",
   "id": "7d2897de",
   "metadata": {},
   "source": [
    "\n"
   ]
  },
  {
   "cell_type": "markdown",
   "id": "0768f4bd",
   "metadata": {},
   "source": [
    "##### Iniciando a mistura e separação da Base: 70% para treino e 30% para teste."
   ]
  },
  {
   "cell_type": "code",
   "execution_count": 6,
   "id": "f5ee4ee7",
   "metadata": {},
   "outputs": [],
   "source": [
    "df = pd.DataFrame(t_entrada)\n",
    "#Mistura\n",
    "df = df.sample(frac=1).reset_index(drop=True)\n",
    "#Separação\n",
    "msk = np.random.rand(len(df)) < 0.7 # cria uma mascara com as posicoes\n",
    "train = df[msk]\n",
    "test = df[~msk]"
   ]
  },
  {
   "cell_type": "code",
   "execution_count": null,
   "id": "0af5dcbe",
   "metadata": {},
   "outputs": [],
   "source": []
  },
  {
   "cell_type": "code",
   "execution_count": null,
   "id": "fc5316a9",
   "metadata": {},
   "outputs": [],
   "source": []
  },
  {
   "cell_type": "code",
   "execution_count": 7,
   "id": "430ada4e",
   "metadata": {},
   "outputs": [],
   "source": [
    "#transformo a parte para treinamento e teste em lista\n",
    "treinamento = train.values.tolist()\n",
    "teste = test.values.tolist()\n",
    "\n",
    "#Separamos a saida das amostras de teste e treino\n",
    "\n",
    "saida_teste_r=[]\n",
    "for i in teste:\n",
    "    saida_teste_r.append(int(i[-1]))\n",
    "    i.pop()\n",
    "    \n",
    "saida_treinamento=[]\n",
    "saida_treinamento_r = []\n",
    "for i in treinamento:\n",
    "    saida_treinamento.append(i[-1])\n",
    "    saida_treinamento_r.append(int(i[-1]))\n",
    "    i.pop()\n",
    "    \n",
    "    \n",
    "def treino(entradas,saidas,apz,vetori=[]):\n",
    "    p0=[]\n",
    "    w0=-1\n",
    "    pesos=[]\n",
    "\n",
    "    p1 = vetori[0]\n",
    "    p2 = vetori[1]\n",
    "    for i in range(3):\n",
    "        r = rd.uniform(p1,p2)\n",
    "        p0.append(r)\n",
    "    w0  = np.array(w0)\n",
    "\n",
    "    \n",
    "    for entrada in entradas:\n",
    "        entrada.insert(0, -1)\n",
    "    entradas = np.array(entradas)\n",
    "\n",
    "\n",
    "    epcs = 0\n",
    "    ajustes = 0\n",
    "    while True:\n",
    "        ajus_epc=0\n",
    "        erro = False\n",
    "\n",
    "        for i in range(len(entradas)): \n",
    "\n",
    "            u = 0\n",
    "            u = u + (np.vdot(entradas[i],p0))\n",
    "            y = activate(u)\n",
    "\n",
    "            if saidas[i]-y!=0.0:\n",
    "                erro_aux = saidas[i]-y\n",
    "                p0 = p0+(apz*erro_aux*(entradas[i]))\n",
    "                ajustes += 1\n",
    "                ajus_epc+=1\n",
    "                \n",
    "                pesos.append(p0)\n",
    "                erro = True\n",
    "                #print('Época ',epcs,': ',ajus_epc,' ajustes.')\n",
    "        epcs+=1\n",
    "        if not erro or epcs>100:\n",
    "            break\n",
    "\n",
    "    #print('a) Alterações no vetor de Pesos:',ajustes)\n",
    "    #print(p0)\n",
    "    #print('-----------------------------------------------------------\\n')\n",
    "    #print(\"b) Números de épocas até a convergência:\",epcs)\n",
    "    #print('-----------------------------------------------------------\\n')\n",
    "    return p0\n",
    "\n",
    "\n",
    "def activate(u):\n",
    "    if u>0:\n",
    "        return 1.0\n",
    "    else:\n",
    "        return 0.0\n",
    "    \n",
    "#Função para Testar \n",
    "def testar(p0,amostra=[]):\n",
    "    # Inserir o valor do limiar na posição \"0\" para cada amostra da lista \"amostras\"\n",
    "    if len(amostra)!=3:\n",
    "        amostra.insert(0,-1)\n",
    "    # Inicializar potencial de ativação\n",
    "    u = 0\n",
    "    # Para cada atributo...\n",
    "    for i in range(len(amostra)):\n",
    "        u = 0\n",
    "        u = u + (np.vdot(amostra,p0))\n",
    "        y = activate(u)\n",
    "        # Multiplicar amostra e seu peso e também somar com o potencial que já tinha\n",
    "        #u += self.pesos[i] * amostra[i]\n",
    "    # Obter a saída da rede considerando g a função\n",
    "    y = activate(u)\n",
    "    #print('Classe: %d' % y)\n",
    "    return y"
   ]
  },
  {
   "cell_type": "markdown",
   "id": "9578d12c",
   "metadata": {},
   "source": [
    "##### Realizamos agora o treinamento do Neurônio, que após a Parte II deste trabalho, usamos os seguintes parâmetros:\n",
    "Taxa de Aprendiazado: 0.4 / Intervalo Inicial de Pesos: (-0.5,+0.5)/ Limite de parada até a convergencia ou até 100 épocas"
   ]
  },
  {
   "cell_type": "code",
   "execution_count": 8,
   "id": "bb593df0",
   "metadata": {},
   "outputs": [],
   "source": [
    "xxxxx = treino(treinamento,saida_treinamento,0.4,[-0.5,0.5])"
   ]
  },
  {
   "cell_type": "code",
   "execution_count": null,
   "id": "477a9ee6",
   "metadata": {},
   "outputs": [],
   "source": []
  },
  {
   "cell_type": "code",
   "execution_count": 9,
   "id": "1c78261a",
   "metadata": {},
   "outputs": [],
   "source": [
    "#Passamos todas as amostras em testes e alocamos em um vetor com a predição das classes.\n",
    "saidas_pred_teste = []\n",
    "for i in teste:\n",
    "    #print(i)\n",
    "    saidas_pred_teste.append(int(testar(xxxxx,i)))"
   ]
  },
  {
   "cell_type": "code",
   "execution_count": 10,
   "id": "17855dcf",
   "metadata": {},
   "outputs": [],
   "source": [
    "saidas_pred_treino = []\n",
    "for i in treinamento:\n",
    "    #print(i)\n",
    "    saidas_pred_treino.append(int(testar(xxxxx,i)))"
   ]
  },
  {
   "cell_type": "code",
   "execution_count": null,
   "id": "1a6e221d",
   "metadata": {},
   "outputs": [],
   "source": [
    "\n"
   ]
  },
  {
   "cell_type": "code",
   "execution_count": null,
   "id": "2e64d028",
   "metadata": {},
   "outputs": [],
   "source": []
  },
  {
   "cell_type": "markdown",
   "id": "3107e61e",
   "metadata": {},
   "source": [
    "##### 1.Apresente a matriz de confusão das previsões efetuadas para o conjunto de testes;"
   ]
  },
  {
   "cell_type": "markdown",
   "id": "d2c815d9",
   "metadata": {},
   "source": [
    "Realizamos a Plotagem da Matriz de Confusão sobre as amostras de Teste"
   ]
  },
  {
   "cell_type": "code",
   "execution_count": 11,
   "id": "6617c687",
   "metadata": {},
   "outputs": [
    {
     "data": {
      "text/plain": [
       "<sklearn.metrics._plot.confusion_matrix.ConfusionMatrixDisplay at 0x2aad40e2e80>"
      ]
     },
     "execution_count": 11,
     "metadata": {},
     "output_type": "execute_result"
    },
    {
     "data": {
      "image/png": "[encoded data removed]",
      "text/plain": [
       "<Figure size 432x288 with 2 Axes>"
      ]
     },
     "metadata": {
      "needs_background": "light"
     },
     "output_type": "display_data"
    }
   ],
   "source": [
    "from sklearn.metrics import confusion_matrix, ConfusionMatrixDisplay\n",
    "cm =confusion_matrix(saida_teste_r, saidas_pred_teste)\n",
    "ConfusionMatrixDisplay(confusion_matrix=cm).plot()"
   ]
  },
  {
   "cell_type": "code",
   "execution_count": 12,
   "id": "d7f048f1",
   "metadata": {},
   "outputs": [],
   "source": [
    "from sklearn.metrics import accuracy_score,recall_score,precision_score,f1_score"
   ]
  },
  {
   "cell_type": "markdown",
   "id": "8efa67d1",
   "metadata": {},
   "source": [
    "##### Verificamos a Acurácia / Revocação / Precisão / F-Score usando os dados do Treinamento"
   ]
  },
  {
   "cell_type": "code",
   "execution_count": 13,
   "id": "a0ebcf35",
   "metadata": {},
   "outputs": [
    {
     "data": {
      "text/plain": [
       "0.9448398576512456"
      ]
     },
     "execution_count": 13,
     "metadata": {},
     "output_type": "execute_result"
    }
   ],
   "source": [
    "\n",
    "accuracy_score(saida_treinamento_r, saidas_pred_treino)"
   ]
  },
  {
   "cell_type": "code",
   "execution_count": 14,
   "id": "fcc14f03",
   "metadata": {},
   "outputs": [
    {
     "data": {
      "text/plain": [
       "0.8934511341461231"
      ]
     },
     "execution_count": 14,
     "metadata": {},
     "output_type": "execute_result"
    }
   ],
   "source": [
    "recall_score(saida_treinamento_r, saidas_pred_treino, average='macro')"
   ]
  },
  {
   "cell_type": "code",
   "execution_count": 15,
   "id": "75afd4fa",
   "metadata": {},
   "outputs": [
    {
     "data": {
      "text/plain": [
       "0.9482174906183717"
      ]
     },
     "execution_count": 15,
     "metadata": {},
     "output_type": "execute_result"
    }
   ],
   "source": [
    "precision_score(saida_treinamento_r, saidas_pred_treino, average='macro')"
   ]
  },
  {
   "cell_type": "code",
   "execution_count": 16,
   "id": "a08987d8",
   "metadata": {},
   "outputs": [
    {
     "data": {
      "text/plain": [
       "0.917124522521751"
      ]
     },
     "execution_count": 16,
     "metadata": {},
     "output_type": "execute_result"
    }
   ],
   "source": [
    "f1_score(saida_treinamento_r, saidas_pred_treino, average='macro')"
   ]
  },
  {
   "cell_type": "markdown",
   "id": "b7b79405",
   "metadata": {},
   "source": [
    "##### Verificamos a Acurácia / Revocação / Precisão / F-Score usando os dados de Teste"
   ]
  },
  {
   "cell_type": "code",
   "execution_count": 18,
   "id": "2ecc1d83",
   "metadata": {},
   "outputs": [
    {
     "data": {
      "text/plain": [
       "0.9159663865546218"
      ]
     },
     "execution_count": 18,
     "metadata": {},
     "output_type": "execute_result"
    }
   ],
   "source": [
    "accuracy_score(saida_teste_r, saidas_pred_teste) "
   ]
  },
  {
   "cell_type": "code",
   "execution_count": 19,
   "id": "4b0731f1",
   "metadata": {},
   "outputs": [
    {
     "ename": "NameError",
     "evalue": "name 'saidas_pred' is not defined",
     "output_type": "error",
     "traceback": [
      "\u001b[1;31m---------------------------------------------------------------------------\u001b[0m",
      "\u001b[1;31mNameError\u001b[0m                                 Traceback (most recent call last)",
      "\u001b[1;32mC:\\Users\\HLLICA~1\\AppData\\Local\\Temp/ipykernel_7352/3245746917.py\u001b[0m in \u001b[0;36m<module>\u001b[1;34m\u001b[0m\n\u001b[1;32m----> 1\u001b[1;33m \u001b[0mrecall_score\u001b[0m\u001b[1;33m(\u001b[0m\u001b[0msaida_teste_r\u001b[0m\u001b[1;33m,\u001b[0m \u001b[0msaidas_pred\u001b[0m\u001b[1;33m,\u001b[0m \u001b[0maverage\u001b[0m\u001b[1;33m=\u001b[0m\u001b[1;34m'macro'\u001b[0m\u001b[1;33m)\u001b[0m\u001b[1;33m\u001b[0m\u001b[1;33m\u001b[0m\u001b[0m\n\u001b[0m",
      "\u001b[1;31mNameError\u001b[0m: name 'saidas_pred' is not defined"
     ]
    }
   ],
   "source": [
    "recall_score(saida_teste_r, saidas_pred_teste, average='macro')"
   ]
  },
  {
   "cell_type": "code",
   "execution_count": 20,
   "id": "b508bbe0",
   "metadata": {},
   "outputs": [
    {
     "ename": "NameError",
     "evalue": "name 'saidas_pred' is not defined",
     "output_type": "error",
     "traceback": [
      "\u001b[1;31m---------------------------------------------------------------------------\u001b[0m",
      "\u001b[1;31mNameError\u001b[0m                                 Traceback (most recent call last)",
      "\u001b[1;32mC:\\Users\\HLLICA~1\\AppData\\Local\\Temp/ipykernel_7352/3464844460.py\u001b[0m in \u001b[0;36m<module>\u001b[1;34m\u001b[0m\n\u001b[1;32m----> 1\u001b[1;33m \u001b[0mprecision_score\u001b[0m\u001b[1;33m(\u001b[0m\u001b[0msaida_teste_r\u001b[0m\u001b[1;33m,\u001b[0m \u001b[0msaidas_pred\u001b[0m\u001b[1;33m,\u001b[0m \u001b[0maverage\u001b[0m\u001b[1;33m=\u001b[0m\u001b[1;34m'macro'\u001b[0m\u001b[1;33m)\u001b[0m\u001b[1;33m\u001b[0m\u001b[1;33m\u001b[0m\u001b[0m\n\u001b[0m",
      "\u001b[1;31mNameError\u001b[0m: name 'saidas_pred' is not defined"
     ]
    }
   ],
   "source": [
    "precision_score(saida_teste_r, saidas_pred_teste, average='macro')"
   ]
  },
  {
   "cell_type": "code",
   "execution_count": null,
   "id": "cb7713f9",
   "metadata": {},
   "outputs": [],
   "source": [
    "f1_score(saida_teste_r, saidas_pred, average='macro')"
   ]
  },
  {
   "cell_type": "markdown",
   "id": "9234e643",
   "metadata": {},
   "source": [
    "    Com o Valor da Acurácia alto (94%), podemos achar que é um sinal positivo, mas temos que considerar que a maior parte dos dados são da Classe 0, ou seja, se o modelo prever todos os testes como classe 0, provavelmente ainda resultará em um valor alto de acurácia.\n",
    "    Na precisão, podemos verificar que o modelo apresenta um  bom acerto quanto os classificados como positivamente, portanto o modelo possui pouco Falso Positivo.\n",
    "    Quanto ao Revocação, Dentre os Valores das classes esperadas, o modelo acertou cerca de 95%, um valor satisfatório e se juntarmos com a Precisão, F1-Score, verificamos que o modelo em si é satisfátorio. Mas lembrando da desproporção dos dados da Base, algo q afeta tanto a acurácia, quanto a precisão.\n",
    "    "
   ]
  },
  {
   "cell_type": "code",
   "execution_count": null,
   "id": "c60c5485",
   "metadata": {},
   "outputs": [],
   "source": []
  },
  {
   "cell_type": "code",
   "execution_count": null,
   "id": "8f0f5443",
   "metadata": {},
   "outputs": [],
   "source": [
    "plot_pts(teste,saidas_pred_teste,'Distribuição das Classes obtidas pelo Perceptron com Dados de Teste'),plot_pts(treinamento,saidas_pred_treino,'Distribuição das Classes obtidas pelo Perceptron com Dados de Treino')"
   ]
  },
  {
   "cell_type": "markdown",
   "id": "a162ffab",
   "metadata": {},
   "source": [
    "    Verificamos no grafico, principalmente no que utiliza dados de Treino, a possibilidade de haver uma reta que divide as Classes obtidas. Algo que não está muito claro no conjunto de Teste (Talvez por haver poucos pontos), mas possivelmente, se inserirmos mais amostras, poderíamos verificar a mesma situação."
   ]
  },
  {
   "cell_type": "code",
   "execution_count": null,
   "id": "971da87b",
   "metadata": {},
   "outputs": [],
   "source": []
  }
 ],
 "metadata": {
  "kernelspec": {
   "display_name": "Python 3 (ipykernel)",
   "language": "python",
   "name": "python3"
  },
  "language_info": {
   "codemirror_mode": {
    "name": "ipython",
    "version": 3
   },
   "file_extension": ".py",
   "mimetype": "text/x-python",
   "name": "python",
   "nbconvert_exporter": "python",
   "pygments_lexer": "ipython3",
   "version": "3.8.5"
  }
 },
 "nbformat": 4,
 "nbformat_minor": 5
}
