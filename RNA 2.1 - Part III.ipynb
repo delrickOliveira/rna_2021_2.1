{
 "cells": [
  {
   "cell_type": "code",
   "execution_count": 1,
   "id": "eef58311",
   "metadata": {},
   "outputs": [],
   "source": [
    "import numpy as np\n",
    "import pandas as pd\n",
    "import random as rd\n",
    "import matplotlib.pyplot as plt"
   ]
  },
  {
   "cell_type": "code",
   "execution_count": null,
   "id": "307df12d",
   "metadata": {},
   "outputs": [],
   "source": []
  },
  {
   "cell_type": "code",
   "execution_count": null,
   "id": "32010d1a",
   "metadata": {},
   "outputs": [],
   "source": []
  },
  {
   "cell_type": "code",
   "execution_count": 2,
   "id": "20e6246c",
   "metadata": {},
   "outputs": [],
   "source": [
    "def conv_inp_out (entrada):\n",
    "    dado = 'data/data/'+str(entrada)\n",
    "    data = np.fromfile(str(dado))\n",
    "    N = 3\n",
    "    saidas_a=[]\n",
    "    d_data = [data[n:n+N].tolist() for n in range(0, len(data), N)]\n",
    "    entrada_full = [data[n:n+N].tolist() for n in range(0, len(data), N)]\n",
    "    for i in d_data:\n",
    "        saidas_a.append(i[-1])\n",
    "        i.pop()\n",
    "        entradas_a = d_data\n",
    "        \n",
    "    return (entradas_a,saidas_a,entrada_full)"
   ]
  },
  {
   "cell_type": "code",
   "execution_count": 3,
   "id": "abaea6b2",
   "metadata": {},
   "outputs": [],
   "source": [
    "def plot_pts(entradas,saidas,title):\n",
    "    #Função para plotar gráfico com pontos (x,y) mais dispersos\n",
    "    plot_x_1 = []\n",
    "    plot_y_1 = []\n",
    "    plot_x_0 = []\n",
    "    plot_y_0 = []\n",
    "    \n",
    "    \n",
    "    for i in range (0,len(entradas)):\n",
    "        \n",
    "        if len(entradas[i])==2:\n",
    "            if saidas[i]==1.0:\n",
    "                plot_x_1.append(entradas[i][0])\n",
    "                plot_y_1.append(entradas[i][1])\n",
    "            else:\n",
    "                plot_x_0.append(entradas[i][0])\n",
    "                plot_y_0.append(entradas[i][1])\n",
    "        else:\n",
    "            if saidas[i]==1.0:\n",
    "                plot_x_1.append(entradas[i][1])\n",
    "                plot_y_1.append(entradas[i][2])\n",
    "            else:\n",
    "                plot_x_0.append(entradas[i][1])\n",
    "                plot_y_0.append(entradas[i][2])        \n",
    "        \n",
    "\n",
    "    x = plot_x_1\n",
    "    y = plot_y_1\n",
    "    a = plot_x_0\n",
    "    b = plot_y_0\n",
    "    \n",
    "    plt.figure(figsize=(8,5))\n",
    "    plt.scatter(x,y,s=3,alpha=1,label = 'Classe 1')\n",
    "    plt.scatter(a,b,s=3,alpha=1, c='red', label= 'Classe 0')\n",
    "    plt.title(title)\n",
    "    plt.legend()\n",
    "    #print('Gráfico gerado')\n",
    "    plt.show()"
   ]
  },
  {
   "cell_type": "code",
   "execution_count": 4,
   "id": "1b4b7829",
   "metadata": {},
   "outputs": [],
   "source": [
    "entrada,saida,t_entrada = conv_inp_out('dataHoldout.txt')"
   ]
  },
  {
   "cell_type": "code",
   "execution_count": 5,
   "id": "feaa56ae",
   "metadata": {},
   "outputs": [
    {
     "data": {
      "image/png": "[encoded data removed]",
      "text/plain": [
       "<Figure size 576x360 with 1 Axes>"
      ]
     },
     "metadata": {
      "needs_background": "light"
     },
     "output_type": "display_data"
    }
   ],
   "source": [
    "plot_pts(entrada,saida,'Distribuição das Classes no Plano Cartesiano')"
   ]
  },
  {
   "cell_type": "markdown",
   "id": "eeee26f2",
   "metadata": {},
   "source": [
    "\n"
   ]
  },
  {
   "cell_type": "markdown",
   "id": "3c767ec4",
   "metadata": {},
   "source": [
    "##### Iniciando a mistura e separação da Base: 70% para treino e 30% para teste."
   ]
  },
  {
   "cell_type": "code",
   "execution_count": 6,
   "id": "da110103",
   "metadata": {},
   "outputs": [],
   "source": [
    "df = pd.DataFrame(t_entrada)\n",
    "#Mistura\n",
    "df = df.sample(frac=1).reset_index(drop=True)\n",
    "#Separação\n",
    "msk = np.random.rand(len(df)) < 0.7 # cria uma mascara com as posicoes\n",
    "train = df[msk]\n",
    "test = df[~msk]"
   ]
  },
  {
   "cell_type": "code",
   "execution_count": null,
   "id": "8ab7e834",
   "metadata": {},
   "outputs": [],
   "source": []
  },
  {
   "cell_type": "code",
   "execution_count": null,
   "id": "192ca87b",
   "metadata": {},
   "outputs": [],
   "source": []
  },
  {
   "cell_type": "code",
   "execution_count": 7,
   "id": "b8de03a1",
   "metadata": {},
   "outputs": [],
   "source": [
    "#transformo a parte para treinamento e teste em lista\n",
    "treinamento = train.values.tolist()\n",
    "teste = test.values.tolist()\n",
    "\n",
    "#Separamos a saida das amostras de teste e treino\n",
    "\n",
    "saida_teste_r=[]\n",
    "for i in teste:\n",
    "    saida_teste_r.append(int(i[-1]))\n",
    "    i.pop()\n",
    "    \n",
    "saida_treinamento=[]\n",
    "saida_treinamento_r = []\n",
    "for i in treinamento:\n",
    "    saida_treinamento.append(i[-1])\n",
    "    saida_treinamento_r.append(int(i[-1]))\n",
    "    i.pop()\n",
    "    \n",
    "    \n",
    "def treino(entradas,saidas,apz,vetori=[]):\n",
    "    p0=[]\n",
    "    w0=-1\n",
    "    pesos=[]\n",
    "\n",
    "    p1 = vetori[0]\n",
    "    p2 = vetori[1]\n",
    "    for i in range(3):\n",
    "        r = rd.uniform(p1,p2)\n",
    "        p0.append(r)\n",
    "    w0  = np.array(w0)\n",
    "\n",
    "    \n",
    "    for entrada in entradas:\n",
    "        entrada.insert(0, -1)\n",
    "    entradas = np.array(entradas)\n",
    "\n",
    "\n",
    "    epcs = 0\n",
    "    ajustes = 0\n",
    "    while True:\n",
    "        ajus_epc=0\n",
    "        erro = False\n",
    "\n",
    "        for i in range(len(entradas)): \n",
    "\n",
    "            u = 0\n",
    "            u = u + (np.vdot(entradas[i],p0))\n",
    "            y = activate(u)\n",
    "\n",
    "            if saidas[i]-y!=0.0:\n",
    "                erro_aux = saidas[i]-y\n",
    "                p0 = p0+(apz*erro_aux*(entradas[i]))\n",
    "                ajustes += 1\n",
    "                ajus_epc+=1\n",
    "                \n",
    "                pesos.append(p0)\n",
    "                erro = True\n",
    "                #print('Época ',epcs,': ',ajus_epc,' ajustes.')\n",
    "        epcs+=1\n",
    "        if not erro or epcs>100:\n",
    "            break\n",
    "\n",
    "    #print('a) Alterações no vetor de Pesos:',ajustes)\n",
    "    #print(p0)\n",
    "    #print('-----------------------------------------------------------\\n')\n",
    "    #print(\"b) Números de épocas até a convergência:\",epcs)\n",
    "    #print('-----------------------------------------------------------\\n')\n",
    "    return p0\n",
    "\n",
    "\n",
    "def activate(u):\n",
    "    if u>0:\n",
    "        return 1.0\n",
    "    else:\n",
    "        return 0.0\n",
    "    \n",
    "#Função para Testar \n",
    "def testar(p0,amostra=[]):\n",
    "    # Inserir o valor do limiar na posição \"0\" para cada amostra da lista \"amostras\"\n",
    "    if len(amostra)!=3:\n",
    "        amostra.insert(0,-1)\n",
    "    # Inicializar potencial de ativação\n",
    "    u = 0\n",
    "    # Para cada atributo...\n",
    "    for i in range(len(amostra)):\n",
    "        u = 0\n",
    "        u = u + (np.vdot(amostra,p0))\n",
    "        y = activate(u)\n",
    "        # Multiplicar amostra e seu peso e também somar com o potencial que já tinha\n",
    "        #u += self.pesos[i] * amostra[i]\n",
    "    # Obter a saída da rede considerando g a função\n",
    "    y = activate(u)\n",
    "    #print('Classe: %d' % y)\n",
    "    return y"
   ]
  },
  {
   "cell_type": "markdown",
   "id": "860ee67d",
   "metadata": {},
   "source": [
    "##### Realizamos agora o treinamento do Neurônio, que após a Parte II deste trabalho, usamos os seguintes parâmetros:\n",
    "Taxa de Aprendiazado: 0.4 / Intervalo Inicial de Pesos: (-0.5,+0.5)/ Limite de parada até a convergencia ou até 100 épocas"
   ]
  },
  {
   "cell_type": "code",
   "execution_count": 8,
   "id": "165a10df",
   "metadata": {},
   "outputs": [],
   "source": [
    "xxxxx = treino(treinamento,saida_treinamento,0.4,[-0.5,0.5])"
   ]
  },
  {
   "cell_type": "code",
   "execution_count": null,
   "id": "44bcb2bb",
   "metadata": {},
   "outputs": [],
   "source": []
  },
  {
   "cell_type": "code",
   "execution_count": 9,
   "id": "ee679586",
   "metadata": {},
   "outputs": [],
   "source": [
    "#Passamos todas as amostras em testes e alocamos em um vetor com a predição das classes.\n",
    "saidas_pred_teste = []\n",
    "for i in teste:\n",
    "    #print(i)\n",
    "    saidas_pred_teste.append(int(testar(xxxxx,i)))"
   ]
  },
  {
   "cell_type": "code",
   "execution_count": 10,
   "id": "c1124191",
   "metadata": {},
   "outputs": [],
   "source": [
    "saidas_pred_treino = []\n",
    "for i in treinamento:\n",
    "    #print(i)\n",
    "    saidas_pred_treino.append(int(testar(xxxxx,i)))"
   ]
  },
  {
   "cell_type": "code",
   "execution_count": null,
   "id": "c248f572",
   "metadata": {},
   "outputs": [],
   "source": [
    "\n"
   ]
  },
  {
   "cell_type": "code",
   "execution_count": null,
   "id": "e024c36e",
   "metadata": {},
   "outputs": [],
   "source": []
  },
  {
   "cell_type": "markdown",
   "id": "8c8fe084",
   "metadata": {},
   "source": [
    "##### 1.Apresente a matriz de confusão das previsões efetuadas para o conjunto de testes;"
   ]
  },
  {
   "cell_type": "markdown",
   "id": "5329c1d4",
   "metadata": {},
   "source": [
    "Realizamos a Plotagem da Matriz de Confusão sobre as amostras de Teste"
   ]
  },
  {
   "cell_type": "code",
   "execution_count": 11,
   "id": "07585906",
   "metadata": {},
   "outputs": [
    {
     "data": {
      "text/plain": [
       "<sklearn.metrics._plot.confusion_matrix.ConfusionMatrixDisplay at 0x21aa1dbef40>"
      ]
     },
     "execution_count": 11,
     "metadata": {},
     "output_type": "execute_result"
    },
    {
     "data": {
      "image/png": "[encoded data removed]",
      "text/plain": [
       "<Figure size 432x288 with 2 Axes>"
      ]
     },
     "metadata": {
      "needs_background": "light"
     },
     "output_type": "display_data"
    }
   ],
   "source": [
    "from sklearn.metrics import confusion_matrix, ConfusionMatrixDisplay\n",
    "cm =confusion_matrix(saida_teste_r, saidas_pred_teste)\n",
    "ConfusionMatrixDisplay(confusion_matrix=cm).plot()"
   ]
  },
  {
   "cell_type": "code",
   "execution_count": 12,
   "id": "89af0c72",
   "metadata": {},
   "outputs": [],
   "source": [
    "from sklearn.metrics import accuracy_score,recall_score,precision_score,f1_score"
   ]
  },
  {
   "cell_type": "markdown",
   "id": "134123e2",
   "metadata": {},
   "source": [
    "##### Verificamos a Acurácia / Revocação / Precisão / F-Score usando os dados do Treinamento"
   ]
  },
  {
   "cell_type": "code",
   "execution_count": 13,
   "id": "9fb34617",
   "metadata": {},
   "outputs": [
    {
     "data": {
      "text/plain": [
       "0.9704347826086956"
      ]
     },
     "execution_count": 13,
     "metadata": {},
     "output_type": "execute_result"
    }
   ],
   "source": [
    "\n",
    "accuracy_score(saida_treinamento_r, saidas_pred_treino)"
   ]
  },
  {
   "cell_type": "code",
   "execution_count": 14,
   "id": "481d53b9",
   "metadata": {},
   "outputs": [
    {
     "data": {
      "text/plain": [
       "0.9625909821344172"
      ]
     },
     "execution_count": 14,
     "metadata": {},
     "output_type": "execute_result"
    }
   ],
   "source": [
    "recall_score(saida_treinamento_r, saidas_pred_treino, average='macro')"
   ]
  },
  {
   "cell_type": "code",
   "execution_count": 15,
   "id": "a787ea1f",
   "metadata": {},
   "outputs": [
    {
     "data": {
      "text/plain": [
       "0.9605882352941176"
      ]
     },
     "execution_count": 15,
     "metadata": {},
     "output_type": "execute_result"
    }
   ],
   "source": [
    "precision_score(saida_treinamento_r, saidas_pred_treino, average='macro')"
   ]
  },
  {
   "cell_type": "code",
   "execution_count": 16,
   "id": "d2b6e3f6",
   "metadata": {},
   "outputs": [
    {
     "data": {
      "text/plain": [
       "0.9615836572358312"
      ]
     },
     "execution_count": 16,
     "metadata": {},
     "output_type": "execute_result"
    }
   ],
   "source": [
    "f1_score(saida_treinamento_r, saidas_pred_treino, average='macro')"
   ]
  },
  {
   "cell_type": "markdown",
   "id": "a7dc91ce",
   "metadata": {},
   "source": [
    "##### Verificamos a Acurácia / Revocação / Precisão / F-Score usando os dados de Teste"
   ]
  },
  {
   "cell_type": "code",
   "execution_count": 17,
   "id": "820b1fbb",
   "metadata": {},
   "outputs": [
    {
     "data": {
      "text/plain": [
       "0.9688888888888889"
      ]
     },
     "execution_count": 17,
     "metadata": {},
     "output_type": "execute_result"
    }
   ],
   "source": [
    "accuracy_score(saida_teste_r, saidas_pred_teste) "
   ]
  },
  {
   "cell_type": "code",
   "execution_count": 18,
   "id": "2cf98a7b",
   "metadata": {},
   "outputs": [
    {
     "data": {
      "text/plain": [
       "0.9590939824205544"
      ]
     },
     "execution_count": 18,
     "metadata": {},
     "output_type": "execute_result"
    }
   ],
   "source": [
    "recall_score(saida_teste_r, saidas_pred_teste, average='macro')"
   ]
  },
  {
   "cell_type": "code",
   "execution_count": 19,
   "id": "72848bfb",
   "metadata": {},
   "outputs": [
    {
     "data": {
      "text/plain": [
       "0.9528679413072476"
      ]
     },
     "execution_count": 19,
     "metadata": {},
     "output_type": "execute_result"
    }
   ],
   "source": [
    "precision_score(saida_teste_r, saidas_pred_teste, average='macro')"
   ]
  },
  {
   "cell_type": "code",
   "execution_count": 20,
   "id": "352e2206",
   "metadata": {},
   "outputs": [
    {
     "data": {
      "text/plain": [
       "0.9559329621443161"
      ]
     },
     "execution_count": 20,
     "metadata": {},
     "output_type": "execute_result"
    }
   ],
   "source": [
    "f1_score(saida_teste_r, saidas_pred_teste, average='macro')"
   ]
  },
  {
   "cell_type": "markdown",
   "id": "0d68aefd",
   "metadata": {},
   "source": [
    "    Com o Valor da Acurácia alto (94%), podemos achar que é um sinal positivo, mas temos que considerar que a maior parte dos dados são da Classe 0, ou seja, se o modelo prever todos os testes como classe 0, provavelmente ainda resultará em um valor alto de acurácia.\n",
    "    Na precisão, podemos verificar que o modelo apresenta um  bom acerto quanto os classificados como positivamente, portanto o modelo possui pouco Falso Positivo.\n",
    "    Quanto ao Revocação, Dentre os Valores das classes esperadas, o modelo acertou cerca de 95%, um valor satisfatório e se juntarmos com a Precisão, F1-Score, verificamos que o modelo em si é satisfátorio. Mas lembrando da desproporção dos dados da Base, algo q afeta tanto a acurácia, quanto a precisão.\n",
    "    "
   ]
  },
  {
   "cell_type": "code",
   "execution_count": null,
   "id": "4e668f7b",
   "metadata": {},
   "outputs": [],
   "source": []
  },
  {
   "cell_type": "code",
   "execution_count": 22,
   "id": "974734a6",
   "metadata": {},
   "outputs": [
    {
     "data": {
      "image/png": "[encoded data removed]",
      "text/plain": [
       "<Figure size 576x360 with 1 Axes>"
      ]
     },
     "metadata": {
      "needs_background": "light"
     },
     "output_type": "display_data"
    },
    {
     "data": {
      "image/png": "[encoded data removed]",
      "text/plain": [
       "<Figure size 576x360 with 1 Axes>"
      ]
     },
     "metadata": {
      "needs_background": "light"
     },
     "output_type": "display_data"
    }
   ],
   "source": [
    "plot_pts(teste,saidas_pred_teste,'Distribuição das Classes obtidas pelo Perceptron com Dados de Teste')\n",
    "plot_pts(treinamento,saidas_pred_treino,'Distribuição das Classes obtidas pelo Perceptron com Dados de Treino')"
   ]
  },
  {
   "cell_type": "markdown",
   "id": "8fc79772",
   "metadata": {},
   "source": [
    "    Verificamos no grafico, principalmente no que utiliza dados de Treino, a possibilidade de haver uma reta que divide as Classes obtidas. Algo que não está muito claro no conjunto de Teste (Talvez por haver poucos pontos), mas possivelmente, se inserirmos mais amostras, poderíamos verificar a mesma situação."
   ]
  },
  {
   "cell_type": "code",
   "execution_count": null,
   "id": "a2e2d741",
   "metadata": {},
   "outputs": [],
   "source": []
  }
 ],
 "metadata": {
  "kernelspec": {
   "display_name": "Python 3 (ipykernel)",
   "language": "python",
   "name": "python3"
  },
  "language_info": {
   "codemirror_mode": {
    "name": "ipython",
    "version": 3
   },
   "file_extension": ".py",
   "mimetype": "text/x-python",
   "name": "python",
   "nbconvert_exporter": "python",
   "pygments_lexer": "ipython3",
   "version": "3.8.5"
  }
 },
 "nbformat": 4,
 "nbformat_minor": 5
}
