{
  "nbformat": 4,
  "nbformat_minor": 5,
  "metadata": {
    "kernelspec": {
      "display_name": "Python 3",
      "language": "python",
      "name": "python3"
    },
    "language_info": {
      "codemirror_mode": {
        "name": "ipython",
        "version": 3
      },
      "file_extension": ".py",
      "mimetype": "text/x-python",
      "name": "python",
      "nbconvert_exporter": "python",
      "pygments_lexer": "ipython3",
      "version": "3.8.8"
    },
    "colab": {
      "name": "exemplo RNA 2.1.ipynb",
      "provenance": [],
      "collapsed_sections": []
    }
  },
  "cells": [
    {
      "cell_type": "markdown",
      "metadata": {
        "id": "152922ef"
      },
      "source": [
        "    Atividade 2.1 Parte I"
      ],
      "id": "152922ef"
    },
    {
      "cell_type": "code",
      "metadata": {
        "id": "8TLaarOLDGij"
      },
      "source": [
        "# import os\n",
        "# from os.path import expanduser\n",
        "\n",
        "# os.chdir(expanduser(\"~\"))"
      ],
      "id": "8TLaarOLDGij",
      "execution_count": 1,
      "outputs": []
    },
    {
      "cell_type": "code",
      "metadata": {
        "id": "fb854093"
      },
      "source": [
        "import pandas as pd\n",
        "import random\n",
        "import matplotlib.pyplot as plt\n",
        "import numpy as np"
      ],
      "id": "fb854093",
      "execution_count": 2,
      "outputs": []
    },
    {
      "cell_type": "markdown",
      "metadata": {
        "id": "923f5c02"
      },
      "source": [
        "Função de ativação Degrau com limiar = 0 / Taxa de aprendizado = 0.1 / Pesos = [-0.5:0.5] "
      ],
      "id": "923f5c02"
    },
    {
      "cell_type": "markdown",
      "metadata": {
        "id": "34d1be27"
      },
      "source": [
        "Executar o algoritmo até a convergencia"
      ],
      "id": "34d1be27"
    },
    {
      "cell_type": "code",
      "metadata": {
        "id": "275413e3"
      },
      "source": [
        "data_np = np.fromfile('data/dataAll.txt')"
      ],
      "id": "275413e3",
      "execution_count": 3,
      "outputs": []
    },
    {
      "cell_type": "code",
      "metadata": {
        "id": "7abe3372"
      },
      "source": [
        "N = 3"
      ],
      "id": "7abe3372",
      "execution_count": 4,
      "outputs": []
    },
    {
      "cell_type": "code",
      "metadata": {
        "id": "fc7b3425"
      },
      "source": [
        "data = np.ndarray((int(len(data_np)/N),N), buffer=data_np)"
      ],
      "id": "fc7b3425",
      "execution_count": 5,
      "outputs": []
    },
    {
      "cell_type": "code",
      "metadata": {
        "colab": {
          "base_uri": "https://localhost:8080/"
        },
        "id": "feb6e2fc",
        "outputId": "2c6e69cb-06f4-449a-ffca-f5da7b523560"
      },
      "source": [
        "data.shape"
      ],
      "id": "feb6e2fc",
      "execution_count": 6,
      "outputs": [
        {
          "output_type": "execute_result",
          "data": {
            "text/plain": [
              "(1000, 3)"
            ]
          },
          "metadata": {},
          "execution_count": 6
        }
      ]
    },
    {
      "cell_type": "code",
      "metadata": {
        "colab": {
          "base_uri": "https://localhost:8080/"
        },
        "id": "b05a7f79",
        "outputId": "e76e5b6d-ac42-4db6-c02c-9bd05a53fe3a"
      },
      "source": [
        "data"
      ],
      "id": "b05a7f79",
      "execution_count": 7,
      "outputs": [
        {
          "output_type": "execute_result",
          "data": {
            "text/plain": [
              "array([[-363.7884,  244.1423,    0.    ],\n",
              "       [ 328.7572, -256.7658,    1.    ],\n",
              "       [-164.9827,  613.2164,    0.    ],\n",
              "       ...,\n",
              "       [ 872.4311,  669.1192,    1.    ],\n",
              "       [ 822.6894, -702.6489,    1.    ],\n",
              "       [-140.147 ,  734.0983,    0.    ]])"
            ]
          },
          "metadata": {},
          "execution_count": 7
        }
      ]
    },
    {
      "cell_type": "code",
      "metadata": {
        "colab": {
          "base_uri": "https://localhost:8080/"
        },
        "id": "8dad24fd",
        "outputId": "839c6ade-ffdf-4bf7-bb9d-013534c96e6f"
      },
      "source": [
        "X = data[:,:N-1]\n",
        "X[:5]"
      ],
      "id": "8dad24fd",
      "execution_count": 8,
      "outputs": [
        {
          "output_type": "execute_result",
          "data": {
            "text/plain": [
              "array([[-363.7884,  244.1423],\n",
              "       [ 328.7572, -256.7658],\n",
              "       [-164.9827,  613.2164],\n",
              "       [ 536.5905,  764.9575],\n",
              "       [ 314.2297,  343.8375]])"
            ]
          },
          "metadata": {},
          "execution_count": 8
        }
      ]
    },
    {
      "cell_type": "code",
      "metadata": {
        "scrolled": false,
        "colab": {
          "base_uri": "https://localhost:8080/"
        },
        "id": "97fc7f40",
        "outputId": "1ea946b1-d261-4f81-aea4-c7b2c24498e8"
      },
      "source": [
        "yd = data[:,N-1]\n",
        "yd[:5]"
      ],
      "id": "97fc7f40",
      "execution_count": 9,
      "outputs": [
        {
          "output_type": "execute_result",
          "data": {
            "text/plain": [
              "array([0., 1., 0., 0., 0.])"
            ]
          },
          "metadata": {},
          "execution_count": 9
        }
      ]
    },
    {
      "cell_type": "code",
      "metadata": {
        "colab": {
          "base_uri": "https://localhost:8080/"
        },
        "id": "85b6cecb",
        "outputId": "d33bdc7e-1044-4cd1-fb44-4f6f7fe64038"
      },
      "source": [
        "w_ = np.random.uniform(-0.5,0.5,3)\n",
        "w_"
      ],
      "id": "85b6cecb",
      "execution_count": 10,
      "outputs": [
        {
          "output_type": "execute_result",
          "data": {
            "text/plain": [
              "array([ 0.30249923, -0.04118191, -0.43132662])"
            ]
          },
          "metadata": {},
          "execution_count": 10
        }
      ]
    },
    {
      "cell_type": "code",
      "metadata": {
        "id": "b84ba29d"
      },
      "source": [
        "x0 = -1"
      ],
      "id": "b84ba29d",
      "execution_count": 11,
      "outputs": []
    },
    {
      "cell_type": "code",
      "metadata": {
        "colab": {
          "base_uri": "https://localhost:8080/"
        },
        "id": "067455fb",
        "outputId": "e9dc3fd9-f17a-445c-fed3-b10a4a576719"
      },
      "source": [
        "entradas = np.insert(X, 0, x0, axis=1)\n",
        "entradas"
      ],
      "id": "067455fb",
      "execution_count": 12,
      "outputs": [
        {
          "output_type": "execute_result",
          "data": {
            "text/plain": [
              "array([[  -1.    , -363.7884,  244.1423],\n",
              "       [  -1.    ,  328.7572, -256.7658],\n",
              "       [  -1.    , -164.9827,  613.2164],\n",
              "       ...,\n",
              "       [  -1.    ,  872.4311,  669.1192],\n",
              "       [  -1.    ,  822.6894, -702.6489],\n",
              "       [  -1.    , -140.147 ,  734.0983]])"
            ]
          },
          "metadata": {},
          "execution_count": 12
        }
      ]
    },
    {
      "cell_type": "code",
      "metadata": {
        "colab": {
          "base_uri": "https://localhost:8080/"
        },
        "id": "6e3d4dd3",
        "outputId": "590d3580-1c08-47d4-b957-858de9f89869"
      },
      "source": [
        "np.dot(w_, entradas[0])"
      ],
      "id": "6e3d4dd3",
      "execution_count": 13,
      "outputs": [
        {
          "output_type": "execute_result",
          "data": {
            "text/plain": [
              "-90.6260697649729"
            ]
          },
          "metadata": {},
          "execution_count": 13
        }
      ]
    },
    {
      "cell_type": "code",
      "metadata": {
        "colab": {
          "base_uri": "https://localhost:8080/"
        },
        "id": "911afa22",
        "outputId": "73eebd0d-a02f-44bb-8ec3-c09c1b1e9ca0"
      },
      "source": [
        "yd[0] - 1"
      ],
      "id": "911afa22",
      "execution_count": 14,
      "outputs": [
        {
          "output_type": "execute_result",
          "data": {
            "text/plain": [
              "-1.0"
            ]
          },
          "metadata": {},
          "execution_count": 14
        }
      ]
    },
    {
      "cell_type": "code",
      "metadata": {
        "id": "a23c3eb2"
      },
      "source": [
        "#! curl -o dataAll.txt \"https://docs.google.com/uc?export=download&id=1HrlvFXy4xJhaS2KfAt3CI7HRBjl6g1dk\"\n",
        "#! wget \"https://docs.google.com/uc?export=download&id=1HrlvFXy4xJhaS2KfAt3CI7HRBjl6g1dk\""
      ],
      "id": "a23c3eb2",
      "execution_count": 17,
      "outputs": []
    },
    {
      "cell_type": "code",
      "metadata": {
        "id": "412c55a9"
      },
      "source": [
        "class Perceptron(object):\n",
        "    \"\"\"Classificador Perceptron\n",
        "    \"\"\"\n",
        "    def __init__(self, apz=0.1, ini_intervalo = -0.5, fim_intervalo = 0.5, limiar_ativacao = 0):\n",
        "        self.apz = apz\n",
        "        self.ini_intervalo = ini_intervalo\n",
        "        self.fim_intervalo = fim_intervalo\n",
        "        self.limiar = limiar_ativacao\n",
        "        self.x0 = -1\n",
        "    \n",
        "    def fit(self, X, yd):\n",
        "        entradas = np.insert(X, 0, x0, axis=1)\n",
        "\n",
        "        self.w_ = np.random.uniform(self.ini_intervalo, self.fim_intervalo, entradas.shape[1])\n",
        "        print('Pesos iniciais:', self.w_)\n",
        "        epcs = 0\n",
        "        ajustes = 0\n",
        "        \n",
        "        while True:\n",
        "            epcs+=1\n",
        "            ocorrencia_erro = False\n",
        "\n",
        "            for xi, target in zip(entradas, yd):\n",
        "                y = self.predict(xi)\n",
        "                erro_ = target - y\n",
        "\n",
        "                if erro_ != 0:\n",
        "                    delta = self.apz * erro_ * xi\n",
        "                    self.w_ += delta\n",
        "                    ajustes += 1\n",
        "\n",
        "                    ocorrencia_erro = True\n",
        "                    print('Época', epcs,'. Pesos ajustados: ', self.w_)\n",
        "            if not ocorrencia_erro:\n",
        "                break\n",
        "\n",
        "        print(\"O número total de ajustes no vetor de pesos: \", ajustes)\n",
        "        print(\"O número de épocas até a convergência: \", epcs)\n",
        "        # print('Ultimos pesos: ', self.w_)\n",
        "        return self\n",
        "    \n",
        "    def u(self, X):\n",
        "        \"\"\"Cálculo da entrada da rede antes da ativação\"\"\"\n",
        "        return np.dot(X, self.w_)\n",
        "    \n",
        "    def ativacao(self, u):\n",
        "        \"\"\"Função Degrau\"\"\"\n",
        "        return np.where(u >= self.limiar, 1, 0)\n",
        "    \n",
        "    def predict(self, X):\n",
        "        return self.ativacao(self.u(X))"
      ],
      "id": "412c55a9",
      "execution_count": 21,
      "outputs": []
    },
    {
      "cell_type": "code",
      "metadata": {
        "id": "6a5b7dde"
      },
      "source": [
        "rede = Perceptron()"
      ],
      "id": "6a5b7dde",
      "execution_count": 22,
      "outputs": []
    },
    {
      "cell_type": "code",
      "metadata": {
        "colab": {
          "base_uri": "https://localhost:8080/"
        },
        "id": "90c06a07",
        "outputId": "8a05a07f-1f00-40eb-dc58-5c96f8e7461a"
      },
      "source": [
        "rede = rede.fit(X, yd)\n",
        "rede.w_"
      ],
      "id": "90c06a07",
      "execution_count": 23,
      "outputs": [
        {
          "output_type": "stream",
          "name": "stdout",
          "text": [
            "Pesos iniciais: [ 0.0770686  -0.23896574  0.23352633]\n",
            "Época 1 . Pesos ajustados:  [  0.1770686   36.13987426 -24.18070367]\n",
            "Época 1 . Pesos ajustados:  [   0.2770686   -17.51917574 -100.67645367]\n",
            "Época 1 . Pesos ajustados:  [  0.1770686   55.27684426 -64.84689367]\n",
            "Época 1 . Pesos ajustados:  [7.70686011e-02 1.37875544e+02 1.50089363e+01]\n",
            "Época 1 . Pesos ajustados:  [  0.1770686  143.72130426 -63.28565367]\n",
            "Época 1 . Pesos ajustados:  [   0.2770686   103.71239426 -141.17834367]\n",
            "Época 1 . Pesos ajustados:  [  0.3770686  157.38220426 -92.08607367]\n",
            "Época 1 . Pesos ajustados:  [   0.2770686   104.42214426 -148.95553367]\n",
            "Época 1 . Pesos ajustados:  [  0.3770686  163.98166426 -98.83320367]\n",
            "Época 1 . Pesos ajustados:  [   0.2770686   118.45703426 -164.46913367]\n",
            "Época 1 . Pesos ajustados:  [  0.3770686  209.17289426 -89.75581367]\n",
            "Época 1 . Pesos ajustados:  [   0.2770686   151.39190426 -150.06396367]\n",
            "Época 1 . Pesos ajustados:  [ 1.77068601e-01  1.03125344e+02 -1.98533684e+02]\n",
            "Época 1 . Pesos ajustados:  [ 7.70686011e-02  1.73572694e+02 -1.56417414e+02]\n",
            "Época 1 . Pesos ajustados:  [-2.29313989e-02  1.26730694e+02 -2.07827284e+02]\n",
            "Época 1 . Pesos ajustados:  [-1.22931399e-01  1.96594324e+02 -1.43608344e+02]\n",
            "Época 1 . Pesos ajustados:  [-2.29313989e-02  1.40758594e+02 -1.99785874e+02]\n",
            "Época 1 . Pesos ajustados:  [-1.22931399e-01  2.17746064e+02 -1.34936544e+02]\n",
            "Época 1 . Pesos ajustados:  [  -0.2229314   181.47602426 -178.16458367]\n",
            "Época 1 . Pesos ajustados:  [-1.22931399e-01  1.63236884e+02 -1.96498224e+02]\n",
            "Época 1 . Pesos ajustados:  [-2.22931399e-01  2.38659324e+02 -1.30443114e+02]\n",
            "Época 1 . Pesos ajustados:  [  -0.3229314   174.30019426 -212.86555367]\n",
            "Época 1 . Pesos ajustados:  [-2.22931399e-01  2.65608404e+02 -1.29594784e+02]\n",
            "Época 1 . Pesos ajustados:  [  -0.3229314   218.56357426 -217.49872367]\n",
            "Época 2 . Pesos ajustados:  [  -0.4229314   170.29701426 -265.96844367]\n",
            "Época 2 . Pesos ajustados:  [  -0.5229314   240.16064426 -201.74950367]\n",
            "Época 2 . Pesos ajustados:  [  -0.4229314   184.32491426 -257.92703367]\n",
            "Época 2 . Pesos ajustados:  [  -0.5229314   261.31238426 -193.07770367]\n",
            "Época 2 . Pesos ajustados:  [  -0.6229314   225.04234426 -236.30574367]\n",
            "Época 2 . Pesos ajustados:  [  -0.7229314   307.93421426 -153.52425367]\n",
            "Época 2 . Pesos ajustados:  [  -0.8229314   261.78683426 -210.17363367]\n",
            "Época 2 . Pesos ajustados:  [  -0.7229314   235.16121426 -242.69600367]\n",
            "Época 2 . Pesos ajustados:  [  -0.8229314   282.18557426 -196.14183367]\n",
            "Época 2 . Pesos ajustados:  [  -0.9229314   252.30151426 -229.25116367]\n",
            "Época 2 . Pesos ajustados:  [  -0.8229314   234.06237426 -247.58480367]\n",
            "Época 2 . Pesos ajustados:  [  -0.7229314   265.36925426 -216.95648367]\n",
            "Época 2 . Pesos ajustados:  [  -0.6229314   189.81535426 -294.27943367]\n",
            "Época 2 . Pesos ajustados:  [  -0.5229314   258.79124426 -229.48850367]\n",
            "Época 2 . Pesos ajustados:  [  -0.4229314   162.97969426 -327.37024367]\n",
            "Época 2 . Pesos ajustados:  [  -0.5229314   244.15342426 -276.02230367]\n",
            "Época 2 . Pesos ajustados:  [  -0.4229314   343.62125426 -184.13274367]\n",
            "Época 2 . Pesos ajustados:  [  -0.5229314   284.91633426 -276.46999367]\n",
            "Época 2 . Pesos ajustados:  [  -0.4229314   241.05820426 -321.00900367]\n",
            "Época 2 . Pesos ajustados:  [  -0.5229314   328.30131426 -254.09708367]\n",
            "Época 3 . Pesos ajustados:  [  -0.4229314   296.87834426 -288.48083367]\n",
            "Época 3 . Pesos ajustados:  [  -0.5229314   246.96852426 -339.74126367]\n",
            "Época 3 . Pesos ajustados:  [  -0.6229314   274.43211426 -318.88491367]\n",
            "Época 3 . Pesos ajustados:  [  -0.5229314   323.89293426 -269.99086367]\n",
            "Época 3 . Pesos ajustados:  [  -0.4229314   295.68547426 -303.57498367]\n",
            "Época 3 . Pesos ajustados:  [-3.22931399e-01  3.82820234e+02 -2.16885154e+02]\n",
            "Época 3 . Pesos ajustados:  [-2.22931399e-01  3.30904904e+02 -2.73086174e+02]\n",
            "Época 3 . Pesos ajustados:  [-1.22931399e-01  2.66018874e+02 -3.47702264e+02]\n",
            "Época 3 . Pesos ajustados:  [-2.22931399e-01  3.55727674e+02 -2.68693544e+02]\n",
            "Época 3 . Pesos ajustados:  [-3.22931399e-01  2.78264724e+02 -3.66681254e+02]\n",
            "Época 3 . Pesos ajustados:  [  -0.4229314   323.17006426 -323.27731367]\n",
            "O número total de ajustes no vetor de pesos:  55\n",
            "O número de épocas até a convergência:  4\n"
          ]
        },
        {
          "output_type": "execute_result",
          "data": {
            "text/plain": [
              "array([  -0.4229314 ,  323.17006426, -323.27731367])"
            ]
          },
          "metadata": {},
          "execution_count": 23
        }
      ]
    },
    {
      "cell_type": "code",
      "metadata": {
        "id": "1641e45c"
      },
      "source": [
        "data_plot = pd.DataFrame(data, columns = ['x1', 'x2', 'y'])"
      ],
      "id": "1641e45c",
      "execution_count": 24,
      "outputs": []
    },
    {
      "cell_type": "code",
      "metadata": {
        "id": "fa8cae08"
      },
      "source": [
        "labels_0 = data_plot.loc[data_plot['y'] == 0]\n",
        "labels_1 = data_plot.loc[data_plot['y'] == 1]"
      ],
      "id": "fa8cae08",
      "execution_count": 25,
      "outputs": []
    },
    {
      "cell_type": "code",
      "metadata": {
        "scrolled": false,
        "colab": {
          "base_uri": "https://localhost:8080/",
          "height": 265
        },
        "id": "18f3a14b",
        "outputId": "c36512ea-6161-424e-a515-4fa94bc67401"
      },
      "source": [
        "#plt.plot(x, y)       # gráfico de linha\n",
        "plt.plot(labels_1.x1, labels_1.x2, 'bo')\n",
        "plt.plot(labels_0.x1, labels_0.x2, 'ro')\n",
        "# gráfico com pontos\n",
        "plt.show()  "
      ],
      "id": "18f3a14b",
      "execution_count": 26,
      "outputs": [
        {
          "output_type": "display_data",
          "data": {
            "image/png": "[encoded data removed]",
            "text/plain": [
              "<Figure size 432x288 with 1 Axes>"
            ]
          },
          "metadata": {
            "needs_background": "light"
          }
        }
      ]
    },
    {
      "cell_type": "markdown",
      "metadata": {
        "id": "c4d79001"
      },
      "source": [
        "2.2. Parte II – Experimentação"
      ],
      "id": "c4d79001"
    },
    {
      "cell_type": "code",
      "metadata": {
        "id": "e87bd24c"
      },
      "source": [
        "# apzs = [0.4, 0.1, 0.01]\n",
        "# lmt = [(-100,100), (-0.5,0.5)]\n",
        "# N = 10"
      ],
      "id": "e87bd24c",
      "execution_count": 29,
      "outputs": []
    },
    {
      "cell_type": "code",
      "metadata": {
        "id": "690e52bf"
      },
      "source": [
        "# for apz in apzs:\n",
        "#     for ini, fim in lmt:\n",
        "#         for i in range(1,N+1):\n",
        "#             print(apz, ini, fim, i)"
      ],
      "id": "690e52bf",
      "execution_count": 30,
      "outputs": []
    },
    {
      "cell_type": "code",
      "metadata": {
        "id": "5c6a919e"
      },
      "source": [
        ""
      ],
      "id": "5c6a919e",
      "execution_count": null,
      "outputs": []
    }
  ]
}